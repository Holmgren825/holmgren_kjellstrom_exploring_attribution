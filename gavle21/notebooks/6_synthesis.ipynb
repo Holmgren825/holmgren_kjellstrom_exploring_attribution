{
 "cells": [
  {
   "cell_type": "markdown",
   "id": "6b1543c2-edb0-4bc0-bba9-c32e639f7306",
   "metadata": {},
   "source": [
    "# Synthesising results\n",
    "In this notebook we will take a look at and visualise the results from the previous notebooks.\n",
    "This entails plotting bars showing the confidence intervals of the probability ratio and FAR for all datasets used in the study.\n",
    "\n",
    "Just as with the attribution notebook, plots for different climate indices are produced by changing the variable `index_name`, if the project is configured this way."
   ]
  },
  {
   "cell_type": "code",
   "execution_count": 1,
   "id": "6812035d-54e8-4794-863c-4a567aa98ea9",
   "metadata": {},
   "outputs": [
    {
     "name": "stderr",
     "output_type": "stream",
     "text": [
      "/home/sm_erhol/dev/attribution/attribution/bootstrap.py:9: TqdmExperimentalWarning: Using `tqdm.autonotebook.tqdm` in notebook mode. Use `tqdm.tqdm` instead to force console mode (e.g. in jupyter console)\n",
      "  from tqdm.autonotebook import tqdm\n"
     ]
    }
   ],
   "source": [
    "import os\n",
    "from textwrap import wrap\n",
    "\n",
    "import numpy as np\n",
    "import scipy.stats as stats\n",
    "import proplot as pplt\n",
    "from attribution.config import init_config"
   ]
  },
  {
   "cell_type": "code",
   "execution_count": 2,
   "id": "98063962-b58c-4824-80f5-463fa9ae21a4",
   "metadata": {},
   "outputs": [],
   "source": [
    "CFG = init_config()"
   ]
  },
  {
   "cell_type": "markdown",
   "id": "294f2c10-f548-49da-bee1-9c9d78be8e7c",
   "metadata": {},
   "source": [
    "<div class=\"alert alert-info\">\n",
    "    <b>Change the index used in the cell below</b>\n",
    "</div>"
   ]
  },
  {
   "cell_type": "code",
   "execution_count": 3,
   "id": "a6093c31-94e4-4c5b-99a0-65180960d34f",
   "metadata": {},
   "outputs": [
    {
     "name": "stdout",
     "output_type": "stream",
     "text": [
      "rx1day\n"
     ]
    }
   ],
   "source": [
    "index_names = CFG[\"index_name\"]\n",
    "# Change 0 to 1 etc for a different index, if the project is configured for multiple indices.\n",
    "index_name = index_names[0]\n",
    "print(index_name)"
   ]
  },
  {
   "cell_type": "markdown",
   "id": "470ed2da-b50b-4731-9ec1-2462a6063fd2",
   "metadata": {},
   "source": [
    "# Synthesising results based on de-trended data"
   ]
  },
  {
   "cell_type": "markdown",
   "id": "e2ceddf8-ae5b-47d7-b108-657bf0f52662",
   "metadata": {},
   "source": [
    "<div class=\"alert alert-info\">\n",
    "    <b>Change the index used in the cell below</b>\n",
    "</div>"
   ]
  },
  {
   "cell_type": "markdown",
   "id": "d08fcdc8-61ad-4f3c-a5b6-d152fa62e4b4",
   "metadata": {},
   "source": [
    "Load the data"
   ]
  },
  {
   "cell_type": "code",
   "execution_count": 4,
   "id": "58f2eb53-214d-4a48-94ce-833bee2594c0",
   "metadata": {},
   "outputs": [],
   "source": [
    "data_path = CFG[\"paths\"][\"project_folder\"]\n",
    "# Load in the PR arrays\n",
    "files = [\n",
    "    f\"etc/{index_name}-ann_pbr_pthbv_detrend.npy\",\n",
    "    f\"etc/{index_name}-ann_pbr_gridclim_detrend.npy\",\n",
    "    f\"etc/{index_name}-ann_pbr_eobs_detrend.npy\",\n",
    "    f\"etc/{index_name}-ann_pbr_era5_detrend.npy\",\n",
    "    f\"etc/{index_name}-ann_pbr_cordex_detrend.npy\",\n",
    "    # f\"etc/{index_name}-ann_pbr_s-lens_detrend.npy\",\n",
    "]"
   ]
  },
  {
   "cell_type": "code",
   "execution_count": 5,
   "id": "6b58187d-ed0e-4174-beb9-483433cf41ba",
   "metadata": {},
   "outputs": [],
   "source": [
    "pbr_data = [np.load(os.path.join(data_path, file)) for file in files]"
   ]
  },
  {
   "cell_type": "code",
   "execution_count": 6,
   "id": "5a63c657-1a99-4d3f-b2b3-e3a2048d4556",
   "metadata": {},
   "outputs": [],
   "source": [
    "member_counts = np.asarray(pbr_data[-1:])[:, -1]\n",
    "pbr_data = [arr[:5] for arr in pbr_data]"
   ]
  },
  {
   "cell_type": "code",
   "execution_count": 7,
   "id": "d283663f-df20-4709-8f91-82569d8f75d8",
   "metadata": {},
   "outputs": [],
   "source": [
    "pbr_labels = [\n",
    "    \"PTHBV\",\n",
    "    \"GridClim\",\n",
    "    \"EOBS\",\n",
    "    \"ERA5\",\n",
    "    f\"CORDEX ({member_counts[0]:.0f})\",\n",
    "    # f\"S-Lens ({member_counts[1]:.0f})\",\n",
    "]"
   ]
  },
  {
   "cell_type": "markdown",
   "id": "0b7a7f0e-a2da-42c3-a787-27ebe5149fd5",
   "metadata": {},
   "source": [
    "We can test the hypothesis that the datasets represent the same \"real\" distribution using a $\\chi2$-test.\n",
    "If they are, we can do a simple weighted average to synthesise the results into a single confidence interval.\n",
    "The weights come from the number of bootstrap resamples and the number of ensemble members."
   ]
  },
  {
   "cell_type": "markdown",
   "id": "6c6eda51-350f-46e9-929b-04db693a199e",
   "metadata": {},
   "source": [
    "Plot the confidence intervals of the probability ratios"
   ]
  },
  {
   "cell_type": "markdown",
   "id": "a5cc0701-1726-4044-8cd1-1ada27a6a273",
   "metadata": {},
   "source": [
    "## FAR\n",
    "\n",
    "Fraction attributable risk is a different way to present attribution results.\n",
    "It varies between 0 and 1, where 1 indicates that 100% of the occasions of the event can be attributed to forcings removed in the counterfactual world, in this case anthropogenic emissions.\n",
    "\n",
    "First compute the weighted averages"
   ]
  },
  {
   "cell_type": "code",
   "execution_count": 8,
   "id": "4cba7710-6c53-454d-a000-03c2c48b58c8",
   "metadata": {
    "tags": []
   },
   "outputs": [],
   "source": [
    "pbr_data = np.asarray(pbr_data)\n",
    "# Add the weighted average\n",
    "far_data = 1 - (1 / pbr_data)  # pbr_data[:, 0, :]\n",
    "# Should the weights come from the size of the bootstrap distribution/ensemble?\n",
    "# Chi2\n",
    "dof = far_data[1:].shape[0]\n",
    "chi2 = (((far_data[1:, 2] - far_data[0, 2]) ** 2 / far_data[0, 2]).sum()) / (dof - 1)\n",
    "chi2_test = stats.chi2(df=dof).cdf(chi2)\n",
    "\n",
    "if chi2_test <= 0.95:\n",
    "    weighted_average = np.average(\n",
    "        far_data,\n",
    "        axis=0,\n",
    "        weights=[1e3, 1e3, 1e3, member_counts[0]]\n",
    "    )\n",
    "    weighted_average = weighted_average[np.newaxis, ...]\n",
    "    # Add the weighted average.\n",
    "    far_data = np.concatenate([far_data, weighted_average])\n",
    "    # Add label for average\n",
    "    pbr_labels.append(\"Average\")"
   ]
  },
  {
   "cell_type": "markdown",
   "id": "0238c64c-a660-4b0c-9fa3-8458c7d648d3",
   "metadata": {},
   "source": [
    "Plot FAR"
   ]
  },
  {
   "cell_type": "code",
   "execution_count": 9,
   "id": "423c25d5-14af-4943-8b32-f31f70b1ef45",
   "metadata": {},
   "outputs": [],
   "source": [
    "threshold_name = \"Gävle 2021\""
   ]
  },
  {
   "cell_type": "code",
   "execution_count": 14,
   "id": "ae1850ad-b88e-4215-a7e2-bd04f24f4d8b",
   "metadata": {
    "tags": []
   },
   "outputs": [
    {
     "data": {
      "image/png": "[encoded data removed]",
      "text/plain": [
       "Figure(nrows=1, ncols=1, figwidth=3.94, figheight=2.95)"
      ]
     },
     "metadata": {
      "image/png": {
       "height": 295,
       "width": 393
      }
     },
     "output_type": "display_data"
    }
   ],
   "source": [
    "boxes = [\n",
    "    {\n",
    "        \"label\": label,\n",
    "        \"whislo\": pbr[0],\n",
    "        \"q1\": pbr[1],\n",
    "        \"med\": pbr[2],\n",
    "        \"q3\": pbr[3],\n",
    "        \"whishi\": pbr[4],\n",
    "        \"fliers\": None,\n",
    "    }\n",
    "    for pbr, label in zip(far_data, pbr_labels)\n",
    "]\n",
    "fig, ax = pplt.subplots(\n",
    "    figwidth=\"10.cm\",\n",
    "    figheight=\"7.5cm\",\n",
    ")\n",
    "patches = ax.bxp(boxes[::-1], vert=False, showfliers=False, patch_artist=True)\n",
    "patches[\"boxes\"][0].set_color(\"C2\")\n",
    "patches[\"boxes\"][0].set_edgecolor(\"k\")\n",
    "\n",
    "axins = ax.inset_axes([0.01, 0.01, 0.35, 0.2], zoom=False)\n",
    "# Dummy barplot\n",
    "legend_box = {\n",
    "    \"label\": None,\n",
    "    \"whislo\": 5,\n",
    "    \"q1\": 25,\n",
    "    \"med\": 50,\n",
    "    \"q3\": 75,\n",
    "    \"whishi\": 95,\n",
    "    \"fliers\": None,\n",
    "}\n",
    "axins.bxp(\n",
    "    [\n",
    "        legend_box,\n",
    "    ],\n",
    "    patch_artist=True,\n",
    "    showfliers=False,\n",
    "    vert=False,\n",
    "    widths=0.3,\n",
    ")\n",
    "# Annotate percentiles.\n",
    "axins.annotate(\"5\", (5, 0.55), ha=\"center\")\n",
    "axins.annotate(\"25\", (25, 0.55), ha=\"center\")\n",
    "axins.annotate(\"50\", (50, 0.55), ha=\"center\")\n",
    "axins.annotate(\"75\", (75, 0.55), ha=\"center\")\n",
    "axins.annotate(\"95\", (93, 0.55), ha=\"center\")\n",
    "axins.annotate(\n",
    "    \"Percentiles\", (0.5, 0.95), ha=\"center\", va=\"top\", xycoords=\"axes fraction\"\n",
    ")\n",
    "axins.format(\n",
    "    grid=False,\n",
    "    xticklabelloc=None,\n",
    "    xticklabels=[],\n",
    "    xticks=False,\n",
    "    yticks=False,\n",
    "    xlim=(0, 100),\n",
    ")\n",
    "\n",
    "# axins.set_facecolor('none')\n",
    "\n",
    "# Labels\n",
    "title = \"\\n\".join(wrap(f\"Gridded analysis FAR | Index: {index_name} | Event threshold: {threshold_name}\", 35))\n",
    "ax.format(\n",
    "    xlabel=\"FAR\",\n",
    "    suptitle=title,\n",
    "    xreverse=False,\n",
    "    xlim=(0, 1),\n",
    "    ytickminor=False,\n",
    ");"
   ]
  },
  {
   "cell_type": "code",
   "execution_count": 16,
   "id": "88a7da1c-e7b1-4aac-a8d0-baea01a05926",
   "metadata": {},
   "outputs": [],
   "source": [
    "fig.save(f\"../../plots/gridded_FAR_{index_name}_gavle21.pdf\")"
   ]
  },
  {
   "cell_type": "code",
   "execution_count": null,
   "id": "d6e6777f-bfc8-4763-a860-690cae47d6f0",
   "metadata": {},
   "outputs": [],
   "source": []
  }
 ],
 "metadata": {
  "kernelspec": {
   "display_name": "Python 3 (ipykernel)",
   "language": "python",
   "name": "python3"
  },
  "language_info": {
   "codemirror_mode": {
    "name": "ipython",
    "version": 3
   },
   "file_extension": ".py",
   "mimetype": "text/x-python",
   "name": "python",
   "nbconvert_exporter": "python",
   "pygments_lexer": "ipython3",
   "version": "3.10.10"
  }
 },
 "nbformat": 4,
 "nbformat_minor": 5
}
