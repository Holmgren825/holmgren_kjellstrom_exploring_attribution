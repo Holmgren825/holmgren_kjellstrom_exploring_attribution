{
 "cells": [
  {
   "cell_type": "markdown",
   "id": "eb4ea2f3-5546-4c4c-9a8c-0a12b28456da",
   "metadata": {},
   "source": [
    "# Validation\n",
    "In this notebook we will validate model datasets against the GridClim product, or any other gridded observations.\n",
    "There are four metrics available in `attribution.validation`\n",
    "- The average anomaly\n",
    "- The monthly average anomaly\n",
    "- A seasonal correlation index\n",
    "- A spatial correlation index"
   ]
  },
  {
   "cell_type": "code",
   "execution_count": 1,
   "id": "5a4d4aa0-cad4-4684-91ab-a7a051c86db9",
   "metadata": {},
   "outputs": [
    {
     "name": "stderr",
     "output_type": "stream",
     "text": [
      "/home/sm_erhol/dev/attribution/attribution/bootstrap.py:9: TqdmExperimentalWarning: Using `tqdm.autonotebook.tqdm` in notebook mode. Use `tqdm.tqdm` instead to force console mode (e.g. in jupyter console)\n",
      "  from tqdm.autonotebook import tqdm\n"
     ]
    }
   ],
   "source": [
    "import glob\n",
    "import os\n",
    "from importlib import reload\n",
    "\n",
    "import attribution.validation\n",
    "import dask\n",
    "import iris\n",
    "import iris.plot as iplt\n",
    "import numpy as np\n",
    "import pandas as pd\n",
    "from attribution.config import init_config\n",
    "from dask.distributed import Client\n",
    "from matplotlib import pyplot as plt"
   ]
  },
  {
   "cell_type": "code",
   "execution_count": 2,
   "id": "7d8370f4-5067-4eeb-b424-4e484716ea32",
   "metadata": {},
   "outputs": [],
   "source": [
    "client = Client()"
   ]
  },
  {
   "cell_type": "code",
   "execution_count": 3,
   "id": "3e06b5ef-3dac-4bdd-b6d9-9723d7c6837f",
   "metadata": {},
   "outputs": [],
   "source": [
    "CFG = init_config()"
   ]
  },
  {
   "cell_type": "code",
   "execution_count": 4,
   "id": "7c70e10c-ff3f-4633-a434-62ec3bbec37f",
   "metadata": {},
   "outputs": [],
   "source": [
    "# Where do we store the data?\n",
    "project_folder = CFG[\"paths\"][\"project_folder\"]"
   ]
  },
  {
   "cell_type": "code",
   "execution_count": 5,
   "id": "bd0e7ec7-3ed3-41da-a72a-f59c6fc01c8e",
   "metadata": {},
   "outputs": [],
   "source": [
    "# We are investigating multiple variables, have to select one.\n",
    "variables = CFG[\"variable\"]"
   ]
  },
  {
   "cell_type": "code",
   "execution_count": 6,
   "id": "9ba2e8c3-a0e7-4869-a570-468f49f9b6e1",
   "metadata": {},
   "outputs": [
    {
     "name": "stdout",
     "output_type": "stream",
     "text": [
      "pr\n"
     ]
    }
   ],
   "source": [
    "# Which variable will we use?\n",
    "variable = variables[0]\n",
    "print(variable)"
   ]
  },
  {
   "cell_type": "code",
   "execution_count": 7,
   "id": "30402f01-9659-4ef5-907b-3b2fb0972778",
   "metadata": {},
   "outputs": [],
   "source": [
    "gc_path = glob.glob(os.path.join(project_folder,  f\"{variable}*GridClim*.nc\"))\n",
    "cordex_path = glob.glob(os.path.join(project_folder, f\"{variable}*CORDEX*.nc\"))"
   ]
  },
  {
   "cell_type": "code",
   "execution_count": 8,
   "id": "61811001-5f3e-4a0b-9253-222f43d478d7",
   "metadata": {},
   "outputs": [
    {
     "name": "stderr",
     "output_type": "stream",
     "text": [
      "/tmp/ipykernel_32641/298512951.py:2: FutureWarning: Ignoring a datum in netCDF load for consistency with existing behaviour. In a future version of Iris, this datum will be applied. To apply the datum when loading, use the iris.FUTURE.datum_support flag.\n",
      "  gc_cube = iris.load_cube(gc_path)\n",
      "/tmp/ipykernel_32641/298512951.py:4: FutureWarning: Ignoring a datum in netCDF load for consistency with existing behaviour. In a future version of Iris, this datum will be applied. To apply the datum when loading, use the iris.FUTURE.datum_support flag.\n",
      "  cordex_cube = iris.load_cube(cordex_path)\n"
     ]
    }
   ],
   "source": [
    "# GridClim\n",
    "gc_cube = iris.load_cube(gc_path)\n",
    "# Cordex\n",
    "cordex_cube = iris.load_cube(cordex_path)"
   ]
  },
  {
   "cell_type": "markdown",
   "id": "ef09e5f0-3fb6-4707-bca0-7d7b540ae05a",
   "metadata": {},
   "source": [
    "## Average (daily) anomaly\n",
    "This calculates the average day anomaly between the model and reference dataset."
   ]
  },
  {
   "cell_type": "code",
   "execution_count": 11,
   "id": "ce071aa2-f0c8-4b38-b7fd-88d5f8379b03",
   "metadata": {},
   "outputs": [
    {
     "name": "stderr",
     "output_type": "stream",
     "text": [
      "/home/sm_erhol/.conda/envs/erhol/lib/python3.10/site-packages/iris/analysis/cartography.py:412: UserWarning: Using DEFAULT_SPHERICAL_EARTH_RADIUS.\n",
      "  warnings.warn(\"Using DEFAULT_SPHERICAL_EARTH_RADIUS.\")\n",
      "/home/sm_erhol/.conda/envs/erhol/lib/python3.10/site-packages/iris/coords.py:2216: UserWarning: Collapsing a multi-dimensional coordinate. Metadata may not be fully descriptive for 'latitude'.\n",
      "  warnings.warn(msg.format(self.name()))\n",
      "/home/sm_erhol/.conda/envs/erhol/lib/python3.10/site-packages/iris/coords.py:2216: UserWarning: Collapsing a multi-dimensional coordinate. Metadata may not be fully descriptive for 'longitude'.\n",
      "  warnings.warn(msg.format(self.name()))\n"
     ]
    }
   ],
   "source": [
    "average_anomaly = attribution.validation.average_anomaly(cordex_cube, gc_cube)"
   ]
  },
  {
   "cell_type": "markdown",
   "id": "160c4c7d-57bd-43bb-9d8d-0d3b9ef6e977",
   "metadata": {},
   "source": [
    "Note that since the cube data is lazy, the above step doesn't actually perform the calculation.\n",
    "This happens first when we need the data, like below."
   ]
  },
  {
   "cell_type": "code",
   "execution_count": 12,
   "id": "1e612cd6-bc5c-4dcc-8c32-4bd7b0e497e0",
   "metadata": {},
   "outputs": [
    {
     "data": {
      "text/plain": [
       "masked_array(data=[ 2.73024677,  5.34765306,  5.0492481 ,  4.03765773,\n",
       "                    5.14837942,  8.33328035,  7.64792237,  5.63265473,\n",
       "                    6.64541918,  3.12672223,  5.06970701,  8.24756509,\n",
       "                    5.59473476,  8.11843258,  8.49943123,  3.35360196,\n",
       "                    3.92149371,  3.13900884,  5.52315596,  7.01755846,\n",
       "                   10.96545841,  4.96435482,  4.65552442,  5.28880422,\n",
       "                    5.202161  ,  7.4850673 ,  6.70678455,  3.62128417,\n",
       "                    9.75481565, 11.23050514,  3.01530987, 10.86494727,\n",
       "                    9.24063937,  9.07293029,  7.56184571,  6.12237315,\n",
       "                    7.91313435,  4.59744212,  7.78034103,  7.76679841,\n",
       "                    8.20862878,  5.71652912,  3.76276166,  8.04859561,\n",
       "                    2.77032909,  3.63861118,  4.27800814,  2.50554404,\n",
       "                    6.15792129,  3.51961243,  5.39361175,  1.99665449,\n",
       "                    5.10045915,  8.5031181 ,  3.9609933 ,  5.75521634,\n",
       "                    5.53926295,  4.92788679,  6.26801943,  5.46438385,\n",
       "                    6.8892224 ,  6.02221775,  6.27241576,  3.14169776,\n",
       "                    6.43271757,  4.54131657],\n",
       "             mask=False,\n",
       "       fill_value=1e+20)"
      ]
     },
     "execution_count": 12,
     "metadata": {},
     "output_type": "execute_result"
    }
   ],
   "source": [
    "# Print the average anomaly as a percentage.\n",
    "average_anomaly.data * 100"
   ]
  },
  {
   "cell_type": "markdown",
   "id": "7c52d052-3b75-4d5a-a5a4-d62e17bcb073",
   "metadata": {},
   "source": [
    "## Average monthly anomaly\n"
   ]
  },
  {
   "cell_type": "code",
   "execution_count": 13,
   "id": "10bc0995-1478-4bf5-b378-72b81a992945",
   "metadata": {},
   "outputs": [
    {
     "name": "stderr",
     "output_type": "stream",
     "text": [
      "/home/sm_erhol/.conda/envs/erhol/lib/python3.10/site-packages/iris/coords.py:2234: UserWarning: Collapsing a non-contiguous coordinate. Metadata may not be fully descriptive for 'time'.\n",
      "  warnings.warn(msg.format(self.name()))\n",
      "/home/sm_erhol/.conda/envs/erhol/lib/python3.10/site-packages/iris/coords.py:2234: UserWarning: Collapsing a non-contiguous coordinate. Metadata may not be fully descriptive for 'year'.\n",
      "  warnings.warn(msg.format(self.name()))\n",
      "/home/sm_erhol/.conda/envs/erhol/lib/python3.10/site-packages/iris/analysis/cartography.py:412: UserWarning: Using DEFAULT_SPHERICAL_EARTH_RADIUS.\n",
      "  warnings.warn(\"Using DEFAULT_SPHERICAL_EARTH_RADIUS.\")\n",
      "/home/sm_erhol/.conda/envs/erhol/lib/python3.10/site-packages/iris/coords.py:2216: UserWarning: Collapsing a multi-dimensional coordinate. Metadata may not be fully descriptive for 'latitude'.\n",
      "  warnings.warn(msg.format(self.name()))\n",
      "/home/sm_erhol/.conda/envs/erhol/lib/python3.10/site-packages/iris/coords.py:2216: UserWarning: Collapsing a multi-dimensional coordinate. Metadata may not be fully descriptive for 'longitude'.\n",
      "  warnings.warn(msg.format(self.name()))\n"
     ]
    }
   ],
   "source": [
    "average_monthly_anomaly = attribution.validation.average_monthly_anomaly(\n",
    "    cordex_cube, gc_cube\n",
    ")"
   ]
  },
  {
   "cell_type": "code",
   "execution_count": 14,
   "id": "0127577b-3a81-494a-9101-5a31a4937907",
   "metadata": {},
   "outputs": [
    {
     "data": {
      "text/plain": [
       "masked_array(data=[14.99772823, 12.96316064, 12.70325731, 17.36801649,\n",
       "                   12.84681757, 12.81253312, 13.01390125, 16.30853709,\n",
       "                   15.0152931 , 14.72837613, 14.51891114, 12.4550897 ,\n",
       "                   15.03658814, 16.78340087, 12.79907044, 14.51986758,\n",
       "                   13.51995618, 11.10967744, 13.11226172, 15.04480882,\n",
       "                   13.49406988, 14.7920711 , 14.58762605, 14.02206568,\n",
       "                   12.35736111, 14.11011752, 12.38302202, 13.30070883,\n",
       "                   15.20944323, 16.58847189,  9.8783545 , 13.17085547,\n",
       "                   15.50770294, 13.81730712, 14.06663366, 14.37847521,\n",
       "                   14.71514852, 10.25736903, 15.11926157, 13.05925881,\n",
       "                   16.0468872 , 12.16598257, 10.87483485, 19.55669138,\n",
       "                   11.29789386, 14.076847  , 11.93218012, 13.20865528,\n",
       "                   12.64607436, 12.39472163, 12.59652425, 10.00945756,\n",
       "                   12.79896335, 16.2312004 , 11.43776889, 13.68847647,\n",
       "                   16.42455551, 14.3259087 , 11.76811819, 13.37040198,\n",
       "                   13.95634077, 13.83479528, 11.89602316, 11.16407985,\n",
       "                   13.74806938, 11.34821914],\n",
       "             mask=False,\n",
       "       fill_value=1e+20)"
      ]
     },
     "execution_count": 14,
     "metadata": {},
     "output_type": "execute_result"
    }
   ],
   "source": [
    "# The average seasonal anomaly as a percentage.\n",
    "average_monthly_anomaly.data * 100"
   ]
  },
  {
   "cell_type": "markdown",
   "id": "8c70bdd2-0065-4595-84b4-20724405caa3",
   "metadata": {
    "tags": []
   },
   "source": [
    "## Seasonal correlation index\n",
    "\n",
    "There are essentially two indices we can calculate here, depending on how hard we want to test the model.\n",
    "If we want to test the models ability to simulate the average year we don't need to set the arg `climatological` since this is `True` by default.\n",
    "This will correlate the average annual cycle for the model(s) and observations in each grid point.\n",
    "Doing this checks how well the model captures the average annual cycle for each grid point.\n",
    "\n",
    "By setting `climatological=False` every annual cycle is instead correlated i.e. monthly values.\n",
    "This is a much tougher metric, and more computationally demanding.\n",
    "\n",
    "There are also two version of this metric, one which follows the definition in the report \"Das Bayerische Klimaprojektionensemble\", and one which more directly follow the Kling-Gupta efficiency.\n",
    "This is switched with the `kge` kwarg."
   ]
  },
  {
   "cell_type": "code",
   "execution_count": 15,
   "id": "6de5377a-afcd-4eb5-98c7-9d0cfe53cb12",
   "metadata": {},
   "outputs": [
    {
     "name": "stderr",
     "output_type": "stream",
     "text": [
      "/home/sm_erhol/.conda/envs/erhol/lib/python3.10/site-packages/iris/coords.py:2234: UserWarning: Collapsing a non-contiguous coordinate. Metadata may not be fully descriptive for 'time'.\n",
      "  warnings.warn(msg.format(self.name()))\n",
      "/home/sm_erhol/.conda/envs/erhol/lib/python3.10/site-packages/iris/coords.py:2234: UserWarning: Collapsing a non-contiguous coordinate. Metadata may not be fully descriptive for 'year'.\n",
      "  warnings.warn(msg.format(self.name()))\n",
      "/home/sm_erhol/.conda/envs/erhol/lib/python3.10/site-packages/iris/coords.py:2234: UserWarning: Collapsing a non-contiguous coordinate. Metadata may not be fully descriptive for 'time'.\n",
      "  warnings.warn(msg.format(self.name()))\n",
      "/home/sm_erhol/.conda/envs/erhol/lib/python3.10/site-packages/iris/coords.py:2234: UserWarning: Collapsing a non-contiguous coordinate. Metadata may not be fully descriptive for 'year'.\n",
      "  warnings.warn(msg.format(self.name()))\n",
      "/home/sm_erhol/.conda/envs/erhol/lib/python3.10/site-packages/iris/coords.py:2234: UserWarning: Collapsing a non-contiguous coordinate. Metadata may not be fully descriptive for 'time'.\n",
      "  warnings.warn(msg.format(self.name()))\n",
      "/home/sm_erhol/.conda/envs/erhol/lib/python3.10/site-packages/iris/coords.py:2234: UserWarning: Collapsing a non-contiguous coordinate. Metadata may not be fully descriptive for 'year'.\n",
      "  warnings.warn(msg.format(self.name()))\n",
      "/home/sm_erhol/.conda/envs/erhol/lib/python3.10/site-packages/iris/coords.py:2234: UserWarning: Collapsing a non-contiguous coordinate. Metadata may not be fully descriptive for 'time'.\n",
      "  warnings.warn(msg.format(self.name()))\n",
      "/home/sm_erhol/.conda/envs/erhol/lib/python3.10/site-packages/iris/coords.py:2234: UserWarning: Collapsing a non-contiguous coordinate. Metadata may not be fully descriptive for 'year'.\n",
      "  warnings.warn(msg.format(self.name()))\n",
      "/home/sm_erhol/.conda/envs/erhol/lib/python3.10/site-packages/iris/coords.py:2234: UserWarning: Collapsing a non-contiguous coordinate. Metadata may not be fully descriptive for 'time'.\n",
      "  warnings.warn(msg.format(self.name()))\n",
      "/home/sm_erhol/.conda/envs/erhol/lib/python3.10/site-packages/iris/coords.py:2234: UserWarning: Collapsing a non-contiguous coordinate. Metadata may not be fully descriptive for 'year'.\n",
      "  warnings.warn(msg.format(self.name()))\n",
      "/home/sm_erhol/.conda/envs/erhol/lib/python3.10/site-packages/iris/coords.py:2226: UserWarning: Cannot check if coordinate is contiguous: Invalid operation for 'year', with 0 bound(s). Contiguous bounds are only defined for 1D coordinates with 2 bounds. Metadata may not be fully descriptive for 'year'. Ignoring bounds.\n",
      "  warnings.warn(msg.format(str(exc), self.name()))\n",
      "/home/sm_erhol/.conda/envs/erhol/lib/python3.10/site-packages/iris/coords.py:2226: UserWarning: Cannot check if coordinate is contiguous: Invalid operation for 'year', with 0 bound(s). Contiguous bounds are only defined for 1D coordinates with 2 bounds. Metadata may not be fully descriptive for 'year'. Ignoring bounds.\n",
      "  warnings.warn(msg.format(str(exc), self.name()))\n",
      "/home/sm_erhol/.conda/envs/erhol/lib/python3.10/site-packages/iris/coords.py:2234: UserWarning: Collapsing a non-contiguous coordinate. Metadata may not be fully descriptive for 'time'.\n",
      "  warnings.warn(msg.format(self.name()))\n",
      "/home/sm_erhol/.conda/envs/erhol/lib/python3.10/site-packages/iris/coords.py:2234: UserWarning: Collapsing a non-contiguous coordinate. Metadata may not be fully descriptive for 'year'.\n",
      "  warnings.warn(msg.format(self.name()))\n",
      "/home/sm_erhol/.conda/envs/erhol/lib/python3.10/site-packages/iris/coords.py:2234: UserWarning: Collapsing a non-contiguous coordinate. Metadata may not be fully descriptive for 'time'.\n",
      "  warnings.warn(msg.format(self.name()))\n",
      "/home/sm_erhol/.conda/envs/erhol/lib/python3.10/site-packages/iris/coords.py:2234: UserWarning: Collapsing a non-contiguous coordinate. Metadata may not be fully descriptive for 'year'.\n",
      "  warnings.warn(msg.format(self.name()))\n",
      "/home/sm_erhol/.conda/envs/erhol/lib/python3.10/site-packages/iris/analysis/cartography.py:412: UserWarning: Using DEFAULT_SPHERICAL_EARTH_RADIUS.\n",
      "  warnings.warn(\"Using DEFAULT_SPHERICAL_EARTH_RADIUS.\")\n",
      "/home/sm_erhol/.conda/envs/erhol/lib/python3.10/site-packages/iris/coords.py:2216: UserWarning: Collapsing a multi-dimensional coordinate. Metadata may not be fully descriptive for 'latitude'.\n",
      "  warnings.warn(msg.format(self.name()))\n",
      "/home/sm_erhol/.conda/envs/erhol/lib/python3.10/site-packages/iris/coords.py:2216: UserWarning: Collapsing a multi-dimensional coordinate. Metadata may not be fully descriptive for 'longitude'.\n",
      "  warnings.warn(msg.format(self.name()))\n",
      "/home/sm_erhol/.conda/envs/erhol/lib/python3.10/site-packages/iris/coords.py:2234: UserWarning: Collapsing a non-contiguous coordinate. Metadata may not be fully descriptive for 'time'.\n",
      "  warnings.warn(msg.format(self.name()))\n",
      "/home/sm_erhol/.conda/envs/erhol/lib/python3.10/site-packages/iris/coords.py:2234: UserWarning: Collapsing a non-contiguous coordinate. Metadata may not be fully descriptive for 'year'.\n",
      "  warnings.warn(msg.format(self.name()))\n",
      "/home/sm_erhol/.conda/envs/erhol/lib/python3.10/site-packages/iris/coords.py:2234: UserWarning: Collapsing a non-contiguous coordinate. Metadata may not be fully descriptive for 'time'.\n",
      "  warnings.warn(msg.format(self.name()))\n",
      "/home/sm_erhol/.conda/envs/erhol/lib/python3.10/site-packages/iris/coords.py:2234: UserWarning: Collapsing a non-contiguous coordinate. Metadata may not be fully descriptive for 'year'.\n",
      "  warnings.warn(msg.format(self.name()))\n",
      "/home/sm_erhol/.conda/envs/erhol/lib/python3.10/site-packages/iris/coords.py:2234: UserWarning: Collapsing a non-contiguous coordinate. Metadata may not be fully descriptive for 'time'.\n",
      "  warnings.warn(msg.format(self.name()))\n",
      "/home/sm_erhol/.conda/envs/erhol/lib/python3.10/site-packages/iris/coords.py:2234: UserWarning: Collapsing a non-contiguous coordinate. Metadata may not be fully descriptive for 'year'.\n",
      "  warnings.warn(msg.format(self.name()))\n",
      "/home/sm_erhol/.conda/envs/erhol/lib/python3.10/site-packages/iris/coords.py:2234: UserWarning: Collapsing a non-contiguous coordinate. Metadata may not be fully descriptive for 'time'.\n",
      "  warnings.warn(msg.format(self.name()))\n",
      "/home/sm_erhol/.conda/envs/erhol/lib/python3.10/site-packages/iris/coords.py:2234: UserWarning: Collapsing a non-contiguous coordinate. Metadata may not be fully descriptive for 'year'.\n",
      "  warnings.warn(msg.format(self.name()))\n",
      "/home/sm_erhol/.conda/envs/erhol/lib/python3.10/site-packages/iris/coords.py:2234: UserWarning: Collapsing a non-contiguous coordinate. Metadata may not be fully descriptive for 'time'.\n",
      "  warnings.warn(msg.format(self.name()))\n",
      "/home/sm_erhol/.conda/envs/erhol/lib/python3.10/site-packages/iris/coords.py:2234: UserWarning: Collapsing a non-contiguous coordinate. Metadata may not be fully descriptive for 'year'.\n",
      "  warnings.warn(msg.format(self.name()))\n",
      "/home/sm_erhol/.conda/envs/erhol/lib/python3.10/site-packages/iris/coords.py:2234: UserWarning: Collapsing a non-contiguous coordinate. Metadata may not be fully descriptive for 'time'.\n",
      "  warnings.warn(msg.format(self.name()))\n",
      "/home/sm_erhol/.conda/envs/erhol/lib/python3.10/site-packages/iris/coords.py:2234: UserWarning: Collapsing a non-contiguous coordinate. Metadata may not be fully descriptive for 'year'.\n",
      "  warnings.warn(msg.format(self.name()))\n",
      "/home/sm_erhol/.conda/envs/erhol/lib/python3.10/site-packages/iris/coords.py:2234: UserWarning: Collapsing a non-contiguous coordinate. Metadata may not be fully descriptive for 'time'.\n",
      "  warnings.warn(msg.format(self.name()))\n",
      "/home/sm_erhol/.conda/envs/erhol/lib/python3.10/site-packages/iris/coords.py:2234: UserWarning: Collapsing a non-contiguous coordinate. Metadata may not be fully descriptive for 'year'.\n",
      "  warnings.warn(msg.format(self.name()))\n",
      "/home/sm_erhol/.conda/envs/erhol/lib/python3.10/site-packages/iris/analysis/cartography.py:412: UserWarning: Using DEFAULT_SPHERICAL_EARTH_RADIUS.\n",
      "  warnings.warn(\"Using DEFAULT_SPHERICAL_EARTH_RADIUS.\")\n",
      "/home/sm_erhol/.conda/envs/erhol/lib/python3.10/site-packages/iris/coords.py:2216: UserWarning: Collapsing a multi-dimensional coordinate. Metadata may not be fully descriptive for 'latitude'.\n",
      "  warnings.warn(msg.format(self.name()))\n",
      "/home/sm_erhol/.conda/envs/erhol/lib/python3.10/site-packages/iris/coords.py:2216: UserWarning: Collapsing a multi-dimensional coordinate. Metadata may not be fully descriptive for 'longitude'.\n",
      "  warnings.warn(msg.format(self.name()))\n"
     ]
    }
   ],
   "source": [
    "seasonality_index = attribution.validation.seasonality_index(\n",
    "    cordex_cube, gc_cube, kge=False\n",
    ")\n",
    "seasonality_index_kge = attribution.validation.seasonality_index(\n",
    "    cordex_cube, gc_cube, kge=True\n",
    ")"
   ]
  },
  {
   "cell_type": "code",
   "execution_count": 16,
   "id": "447641e4-7dff-4444-9c98-4119a9a7a2a0",
   "metadata": {},
   "outputs": [
    {
     "data": {
      "text/plain": [
       "masked_array(data=[0.77910106, 0.81656819, 0.81292823, 0.69280485,\n",
       "                   0.79249511, 0.77006811, 0.78851797, 0.68847425,\n",
       "                   0.80621654, 0.76426925, 0.78009404, 0.71618689,\n",
       "                   0.78837021, 0.76333477, 0.8429574 , 0.75426751,\n",
       "                   0.82380766, 0.87006145, 0.84898379, 0.79993869,\n",
       "                   0.79993505, 0.81665673, 0.75884914, 0.81935417,\n",
       "                   0.87454689, 0.85843801, 0.85583839, 0.77184752,\n",
       "                   0.85433616, 0.83091334, 0.87472736, 0.73453693,\n",
       "                   0.80375639, 0.85854206, 0.83628429, 0.80786756,\n",
       "                   0.78617336, 0.88808634, 0.80189531, 0.88111012,\n",
       "                   0.82663456, 0.84266608, 0.87237473, 0.62284224,\n",
       "                   0.83609616, 0.77167402, 0.84362893, 0.78755385,\n",
       "                   0.85545783, 0.82627993, 0.85349398, 0.78627149,\n",
       "                   0.84659543, 0.75721219, 0.8218243 , 0.77876741,\n",
       "                   0.77229988, 0.81954119, 0.87177032, 0.82584531,\n",
       "                   0.82510458, 0.79916172, 0.8094852 , 0.8625248 ,\n",
       "                   0.82430463, 0.82831928],\n",
       "             mask=False,\n",
       "       fill_value=1e+20)"
      ]
     },
     "execution_count": 16,
     "metadata": {},
     "output_type": "execute_result"
    }
   ],
   "source": [
    "seasonality_index.data"
   ]
  },
  {
   "cell_type": "code",
   "execution_count": 17,
   "id": "4b6f8253-a658-4484-97f3-7454df5583bb",
   "metadata": {},
   "outputs": [
    {
     "data": {
      "text/plain": [
       "masked_array(data=[0.67050463, 0.72582064, 0.72600878, 0.57739786,\n",
       "                   0.70023533, 0.72132161, 0.72513269, 0.62849035,\n",
       "                   0.66536196, 0.67806864, 0.67414779, 0.74882291,\n",
       "                   0.63037534, 0.62772341, 0.74347001, 0.61326681,\n",
       "                   0.70897777, 0.74290681, 0.72826915, 0.6646154 ,\n",
       "                   0.72602977, 0.66482342, 0.66133303, 0.71406214,\n",
       "                   0.75464486, 0.72777494, 0.74331351, 0.70966711,\n",
       "                   0.71001224, 0.67300281, 0.7670871 , 0.72488748,\n",
       "                   0.69295729, 0.73791506, 0.72367003, 0.71378207,\n",
       "                   0.67853586, 0.78681774, 0.69629186, 0.71339047,\n",
       "                   0.65812006, 0.76622708, 0.77673764, 0.50582837,\n",
       "                   0.74927849, 0.70302107, 0.75503559, 0.70990533,\n",
       "                   0.73625543, 0.74421852, 0.75148655, 0.78526212,\n",
       "                   0.75669692, 0.635303  , 0.77801519, 0.68577852,\n",
       "                   0.64202313, 0.70852113, 0.75251461, 0.70813603,\n",
       "                   0.69444302, 0.69018512, 0.74980695, 0.76685451,\n",
       "                   0.70500529, 0.73757226],\n",
       "             mask=False,\n",
       "       fill_value=1e+20)"
      ]
     },
     "execution_count": 17,
     "metadata": {},
     "output_type": "execute_result"
    }
   ],
   "source": [
    "seasonality_index_kge.data"
   ]
  },
  {
   "cell_type": "markdown",
   "id": "15308d04-6589-4088-b515-86c51e494fa4",
   "metadata": {},
   "source": [
    "## Spatial correlation\n",
    "Measures the spatial correlation between model and reference dataset."
   ]
  },
  {
   "cell_type": "code",
   "execution_count": 18,
   "id": "28ac6cd7-72a3-441f-8bea-dd7e0936dfc9",
   "metadata": {},
   "outputs": [
    {
     "name": "stderr",
     "output_type": "stream",
     "text": [
      "/home/sm_erhol/.conda/envs/erhol/lib/python3.10/site-packages/iris/coords.py:2226: UserWarning: Cannot check if coordinate is contiguous: Invalid operation for 'grid_latitude', with 0 bound(s). Contiguous bounds are only defined for 1D coordinates with 2 bounds. Metadata may not be fully descriptive for 'grid_latitude'. Ignoring bounds.\n",
      "  warnings.warn(msg.format(str(exc), self.name()))\n",
      "/home/sm_erhol/.conda/envs/erhol/lib/python3.10/site-packages/iris/coords.py:2226: UserWarning: Cannot check if coordinate is contiguous: Invalid operation for 'grid_longitude', with 0 bound(s). Contiguous bounds are only defined for 1D coordinates with 2 bounds. Metadata may not be fully descriptive for 'grid_longitude'. Ignoring bounds.\n",
      "  warnings.warn(msg.format(str(exc), self.name()))\n",
      "/home/sm_erhol/.conda/envs/erhol/lib/python3.10/site-packages/iris/coords.py:2216: UserWarning: Collapsing a multi-dimensional coordinate. Metadata may not be fully descriptive for 'latitude'.\n",
      "  warnings.warn(msg.format(self.name()))\n",
      "/home/sm_erhol/.conda/envs/erhol/lib/python3.10/site-packages/iris/coords.py:2216: UserWarning: Collapsing a multi-dimensional coordinate. Metadata may not be fully descriptive for 'longitude'.\n",
      "  warnings.warn(msg.format(self.name()))\n",
      "/home/sm_erhol/.conda/envs/erhol/lib/python3.10/site-packages/iris/coords.py:2226: UserWarning: Cannot check if coordinate is contiguous: Invalid operation for 'grid_latitude', with 0 bound(s). Contiguous bounds are only defined for 1D coordinates with 2 bounds. Metadata may not be fully descriptive for 'grid_latitude'. Ignoring bounds.\n",
      "  warnings.warn(msg.format(str(exc), self.name()))\n",
      "/home/sm_erhol/.conda/envs/erhol/lib/python3.10/site-packages/iris/coords.py:2226: UserWarning: Cannot check if coordinate is contiguous: Invalid operation for 'grid_longitude', with 0 bound(s). Contiguous bounds are only defined for 1D coordinates with 2 bounds. Metadata may not be fully descriptive for 'grid_longitude'. Ignoring bounds.\n",
      "  warnings.warn(msg.format(str(exc), self.name()))\n",
      "/home/sm_erhol/.conda/envs/erhol/lib/python3.10/site-packages/iris/coords.py:2216: UserWarning: Collapsing a multi-dimensional coordinate. Metadata may not be fully descriptive for 'latitude'.\n",
      "  warnings.warn(msg.format(self.name()))\n",
      "/home/sm_erhol/.conda/envs/erhol/lib/python3.10/site-packages/iris/coords.py:2216: UserWarning: Collapsing a multi-dimensional coordinate. Metadata may not be fully descriptive for 'longitude'.\n",
      "  warnings.warn(msg.format(self.name()))\n",
      "/home/sm_erhol/.conda/envs/erhol/lib/python3.10/site-packages/iris/coords.py:2226: UserWarning: Cannot check if coordinate is contiguous: Invalid operation for 'grid_latitude', with 0 bound(s). Contiguous bounds are only defined for 1D coordinates with 2 bounds. Metadata may not be fully descriptive for 'grid_latitude'. Ignoring bounds.\n",
      "  warnings.warn(msg.format(str(exc), self.name()))\n",
      "/home/sm_erhol/.conda/envs/erhol/lib/python3.10/site-packages/iris/coords.py:2226: UserWarning: Cannot check if coordinate is contiguous: Invalid operation for 'grid_longitude', with 0 bound(s). Contiguous bounds are only defined for 1D coordinates with 2 bounds. Metadata may not be fully descriptive for 'grid_longitude'. Ignoring bounds.\n",
      "  warnings.warn(msg.format(str(exc), self.name()))\n",
      "/home/sm_erhol/.conda/envs/erhol/lib/python3.10/site-packages/iris/coords.py:2216: UserWarning: Collapsing a multi-dimensional coordinate. Metadata may not be fully descriptive for 'latitude'.\n",
      "  warnings.warn(msg.format(self.name()))\n",
      "/home/sm_erhol/.conda/envs/erhol/lib/python3.10/site-packages/iris/coords.py:2216: UserWarning: Collapsing a multi-dimensional coordinate. Metadata may not be fully descriptive for 'longitude'.\n",
      "  warnings.warn(msg.format(self.name()))\n",
      "/home/sm_erhol/.conda/envs/erhol/lib/python3.10/site-packages/iris/coords.py:2226: UserWarning: Cannot check if coordinate is contiguous: Invalid operation for 'grid_latitude', with 0 bound(s). Contiguous bounds are only defined for 1D coordinates with 2 bounds. Metadata may not be fully descriptive for 'grid_latitude'. Ignoring bounds.\n",
      "  warnings.warn(msg.format(str(exc), self.name()))\n",
      "/home/sm_erhol/.conda/envs/erhol/lib/python3.10/site-packages/iris/coords.py:2226: UserWarning: Cannot check if coordinate is contiguous: Invalid operation for 'grid_longitude', with 0 bound(s). Contiguous bounds are only defined for 1D coordinates with 2 bounds. Metadata may not be fully descriptive for 'grid_longitude'. Ignoring bounds.\n",
      "  warnings.warn(msg.format(str(exc), self.name()))\n",
      "/home/sm_erhol/.conda/envs/erhol/lib/python3.10/site-packages/iris/coords.py:2216: UserWarning: Collapsing a multi-dimensional coordinate. Metadata may not be fully descriptive for 'latitude'.\n",
      "  warnings.warn(msg.format(self.name()))\n",
      "/home/sm_erhol/.conda/envs/erhol/lib/python3.10/site-packages/iris/coords.py:2216: UserWarning: Collapsing a multi-dimensional coordinate. Metadata may not be fully descriptive for 'longitude'.\n",
      "  warnings.warn(msg.format(self.name()))\n",
      "/home/sm_erhol/.conda/envs/erhol/lib/python3.10/site-packages/iris/coords.py:2226: UserWarning: Cannot check if coordinate is contiguous: Invalid operation for 'grid_latitude', with 0 bound(s). Contiguous bounds are only defined for 1D coordinates with 2 bounds. Metadata may not be fully descriptive for 'grid_latitude'. Ignoring bounds.\n",
      "  warnings.warn(msg.format(str(exc), self.name()))\n",
      "/home/sm_erhol/.conda/envs/erhol/lib/python3.10/site-packages/iris/coords.py:2226: UserWarning: Cannot check if coordinate is contiguous: Invalid operation for 'grid_longitude', with 0 bound(s). Contiguous bounds are only defined for 1D coordinates with 2 bounds. Metadata may not be fully descriptive for 'grid_longitude'. Ignoring bounds.\n",
      "  warnings.warn(msg.format(str(exc), self.name()))\n",
      "/home/sm_erhol/.conda/envs/erhol/lib/python3.10/site-packages/iris/coords.py:2216: UserWarning: Collapsing a multi-dimensional coordinate. Metadata may not be fully descriptive for 'latitude'.\n",
      "  warnings.warn(msg.format(self.name()))\n",
      "/home/sm_erhol/.conda/envs/erhol/lib/python3.10/site-packages/iris/coords.py:2216: UserWarning: Collapsing a multi-dimensional coordinate. Metadata may not be fully descriptive for 'longitude'.\n",
      "  warnings.warn(msg.format(self.name()))\n",
      "/home/sm_erhol/.conda/envs/erhol/lib/python3.10/site-packages/iris/coords.py:2226: UserWarning: Cannot check if coordinate is contiguous: Invalid operation for 'year', with 0 bound(s). Contiguous bounds are only defined for 1D coordinates with 2 bounds. Metadata may not be fully descriptive for 'year'. Ignoring bounds.\n",
      "  warnings.warn(msg.format(str(exc), self.name()))\n"
     ]
    }
   ],
   "source": [
    "pattern_index = attribution.validation.pattern_index(cordex_cube, gc_cube)"
   ]
  },
  {
   "cell_type": "code",
   "execution_count": 19,
   "id": "140b61ea-edd7-4a72-bb56-bfa4ac9548d5",
   "metadata": {},
   "outputs": [
    {
     "data": {
      "text/plain": [
       "masked_array(data=[0.5619961 , 0.50890505, 0.6583811 , 0.53872424,\n",
       "                   0.5700649 , 0.51023006, 0.5275761 , 0.6564171 ,\n",
       "                   0.577764  , 0.58950925, 0.61938363, 0.54765534,\n",
       "                   0.54936165, 0.5649752 , 0.51307815, 0.5803684 ,\n",
       "                   0.59288925, 0.6210491 , 0.64479727, 0.5941583 ,\n",
       "                   0.5587453 , 0.630385  , 0.5691504 , 0.54878193,\n",
       "                   0.6210678 , 0.6372913 , 0.60631675, 0.58400023,\n",
       "                   0.6604443 , 0.6036584 , 0.5436205 , 0.5494969 ,\n",
       "                   0.5820571 , 0.5620515 , 0.5529612 , 0.5826314 ,\n",
       "                   0.5583478 , 0.59790504, 0.6341298 , 0.54150146,\n",
       "                   0.59591085, 0.6113226 , 0.622307  , 0.59025   ,\n",
       "                   0.5719771 , 0.65362245, 0.6247244 , 0.6198506 ,\n",
       "                   0.6513086 , 0.5961437 , 0.64280003, 0.5938447 ,\n",
       "                   0.5805416 , 0.60515195, 0.6175601 , 0.58116215,\n",
       "                   0.6044712 , 0.62968475, 0.52534187, 0.5408041 ,\n",
       "                   0.5770423 , 0.6522026 , 0.6023542 , 0.60136837,\n",
       "                   0.6209088 , 0.58204865],\n",
       "             mask=False,\n",
       "       fill_value=1e+20,\n",
       "            dtype=float32)"
      ]
     },
     "execution_count": 19,
     "metadata": {},
     "output_type": "execute_result"
    }
   ],
   "source": [
    "pattern_index.data"
   ]
  },
  {
   "cell_type": "markdown",
   "id": "3e22d680-0b1d-47f6-96c5-317f94591579",
   "metadata": {},
   "source": [
    "## Homogenise the scores\n",
    "Mapping the index to scores between 0 and 10.\n",
    "The bins used are based on values from the paper/report on the Bavarian climate projection ensemble."
   ]
  },
  {
   "cell_type": "code",
   "execution_count": 20,
   "id": "3a0eebf0-16d2-4284-aae0-cb23cc77e18d",
   "metadata": {},
   "outputs": [],
   "source": [
    "# Scores for index 1 and 2\n",
    "indx_1_scores = attribution.validation.get_scores(\n",
    "    average_anomaly.data * 100,\n",
    "    bins=np.arange(5, 51, 5),\n",
    "    score_bins=np.arange(10, -1, -1),\n",
    ")\n",
    "indx_2_scores = attribution.validation.get_scores(\n",
    "    average_monthly_anomaly.data * 100,\n",
    "    bins=np.arange(5, 51, 5),\n",
    "    score_bins=np.arange(10, -1, -1),\n",
    ")"
   ]
  },
  {
   "cell_type": "code",
   "execution_count": 21,
   "id": "29014901-fe0e-4b9b-89e9-1ff909635aab",
   "metadata": {},
   "outputs": [],
   "source": [
    "# Scores for index 3 and 4\n",
    "indx_3_scores = attribution.validation.get_scores(\n",
    "    seasonality_index.data,\n",
    "    bins=np.arange(0.92, 0.19, -0.08),\n",
    "    score_bins=np.arange(10, -1, -1),\n",
    ")\n",
    "indx_4_scores = attribution.validation.get_scores(\n",
    "    pattern_index.data,\n",
    "    bins=np.arange(0.92, 0.19, -0.08),\n",
    "    score_bins=np.arange(10, -1, -1),\n",
    ")"
   ]
  },
  {
   "cell_type": "code",
   "execution_count": 22,
   "id": "ce2f85e5-cf58-4a0e-bd33-cd1805dbc975",
   "metadata": {},
   "outputs": [],
   "source": [
    "# Stack the scores\n",
    "data = np.stack(\n",
    "    [\n",
    "        indx_1_scores,\n",
    "        indx_2_scores,\n",
    "        indx_3_scores,\n",
    "        indx_4_scores,\n",
    "    ],\n",
    "    axis=1,\n",
    ")"
   ]
  },
  {
   "cell_type": "markdown",
   "id": "8289b4e2-9986-4e1b-819a-aa95925422da",
   "metadata": {},
   "source": [
    "Create a `pandas.Dataframe` of the scores"
   ]
  },
  {
   "cell_type": "code",
   "execution_count": 23,
   "id": "04e2fb81-0be4-4e83-8191-fbc5cb4a4306",
   "metadata": {},
   "outputs": [],
   "source": [
    "# Create a dataframe of the scores.\n",
    "scores_df = pd.DataFrame(data=data, columns=[\"Idx_1\", \"Idx_2\", \"Idx_3\", \"Idx_4\"])\n",
    "# Add the ensemble id\n",
    "scores_df[\"ensemble_id\"] = cordex_cube.coord(\"ensemble_id\").points\n",
    "scores_df = scores_df[[\"ensemble_id\", \"Idx_1\", \"Idx_2\", \"Idx_3\", \"Idx_4\"]]"
   ]
  },
  {
   "cell_type": "code",
   "execution_count": 24,
   "id": "0f3a9a0e-4eec-4346-a92a-021ef531aacb",
   "metadata": {},
   "outputs": [],
   "source": [
    "# Add a sum of the scores.\n",
    "scores_df[\"Sum_scores\"] = scores_df.sum(axis=1, numeric_only=True)"
   ]
  },
  {
   "cell_type": "code",
   "execution_count": 25,
   "id": "be5489bd-823f-4db7-979f-fe437de985ad",
   "metadata": {},
   "outputs": [
    {
     "data": {
      "text/plain": [
       "ensemble_id    CCCma-CanESM2--CLMcom-CCLM4-8-17--r1i1p1\n",
       "Idx_1                                                 8\n",
       "Idx_2                                                 7\n",
       "Idx_3                                                 6\n",
       "Idx_4                                                 4\n",
       "Sum_scores                                           27\n",
       "dtype: object"
      ]
     },
     "execution_count": 25,
     "metadata": {},
     "output_type": "execute_result"
    }
   ],
   "source": [
    "scores_df.min()"
   ]
  },
  {
   "cell_type": "markdown",
   "id": "b939a29f-71d1-4aa1-b81f-95b769939812",
   "metadata": {},
   "source": [
    "With these scores we can evaluate if there are any models that should be excluded from the rest of the study.\n",
    "In this particular case, the lowest total score is 32, which is still acceptable, and we don't exclude any models based on this step."
   ]
  },
  {
   "cell_type": "code",
   "execution_count": 26,
   "id": "c8ec2529-09e7-4349-8512-04d24835dd75",
   "metadata": {},
   "outputs": [],
   "source": [
    "# Save the scores to a csv.\n",
    "scores_df.to_csv(os.path.join(project_folder, \"scores.csv\"))"
   ]
  },
  {
   "cell_type": "code",
   "execution_count": 28,
   "id": "9b83b720-2a20-47ac-970e-ed205c28484a",
   "metadata": {},
   "outputs": [],
   "source": [
    "client.shutdown()"
   ]
  },
  {
   "cell_type": "markdown",
   "id": "0ca754f6-6e64-4bcb-8037-24cac84f43bf",
   "metadata": {},
   "source": [
    "## Next step\n",
    "\n",
    "[Attribution](4_attribution.ipynb)"
   ]
  }
 ],
 "metadata": {
  "kernelspec": {
   "display_name": "Python 3 (ipykernel)",
   "language": "python",
   "name": "python3"
  },
  "language_info": {
   "codemirror_mode": {
    "name": "ipython",
    "version": 3
   },
   "file_extension": ".py",
   "mimetype": "text/x-python",
   "name": "python",
   "nbconvert_exporter": "python",
   "pygments_lexer": "ipython3",
   "version": "3.10.10"
  }
 },
 "nbformat": 4,
 "nbformat_minor": 5
}
