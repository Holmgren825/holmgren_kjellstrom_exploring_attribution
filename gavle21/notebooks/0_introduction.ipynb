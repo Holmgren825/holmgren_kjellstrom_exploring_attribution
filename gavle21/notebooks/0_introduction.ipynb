{
 "cells": [
  {
   "cell_type": "markdown",
   "id": "6f41c3d9-7aae-4157-bea5-60a4a08afffe",
   "metadata": {},
   "source": [
    "# Introduction to attribution notebooks\n",
    "\n",
    "This serves as an introduction to the notebooks outlining an attribution study.\n",
    "If this is a clone of the `project_template` or a previous project it should be set up and ready to go.\n",
    "\n",
    "<div class=\"alert alert-info\"><b>Note that these notebooks require that the attribution package is installed in your python environment.</b></div>\n",
    "\n",
    "First step is to take a look at the [configuration file](../config.yml), which is where you're encouraged to set up the project (can be seen as a namelist).\n",
    "\n",
    "The analysis is divided into six notebooks which should be run in order\n",
    "1. [Region selection](./1_region_selection.ipynb)\n",
    "\n",
    "    **Start here!** The aim of this notebook is to aid in defining the region over which the study will be performed.\n",
    "    At the end, the config file should be modified to update `roi_mask`. \n",
    "2. [Prepare datasets](./2_prepare_datasets.ipynb)\n",
    "    \n",
    "    This is where the datasets are prepared for the analysis.\n",
    "    Currently the attribution package has functions to prepare datasets from\n",
    "    - GridClim\n",
    "    - PTHBV\n",
    "    - EOBS\n",
    "    - ERA5\n",
    "    - Cordex-Midas\n",
    "    - S-Lens\n",
    "    \n",
    "    Which of these you want to use depends on your project/event.\n",
    "3. [Validation](./3_validation.ipynb)\n",
    "\n",
    "    Before doing the attribution analysis any model-datasets should be validated against an observational dataset.\n",
    "    This notebook computes four metrics and homogenises the outputs. \n",
    "    The resulting table can be used to possibly exclude certain models/ensemble members.\n",
    "4. [Attribution](./4_attribution.ipynb)\n",
    "\n",
    "    This is where probabilities, including confidence intervals, for the event under the factual and counterfactual worlds are calculated.\n",
    "    It consists of a detailed section explaining what goes on using the GridClim dataset, followed by the other datasets.\n",
    "    For each dataset the probability ratio is calculated using untouched and de-trended data.\n",
    "\n",
    "5. [Attribution (Daily scaling)](./5_attribution_ds.ipynb)\n",
    "\n",
    "    **Experimental and WIP** Alternative method used to generate representations of the counterfactual climate.\n",
    "6. [Synthesis](./6_synthesis.ipynb)\n",
    "\n",
    "    Visualise and synthesise the results from notebook 4 and 5.\n",
    "    Contains code to generate the horizontal bar plots commonly presented in attribution studies.\n",
    "    \n",
    "If an event is defined/evaluated by multiple indices, some of the notebooks can be run multiple times.\n",
    "In these cases, filenames for any data that is saved will be using the variables `index_name` and/or `variable` so no unintentional overwrites occur."
   ]
  },
  {
   "cell_type": "markdown",
   "id": "401d3695-37da-4f46-ae77-2f8fe98d1109",
   "metadata": {},
   "source": [
    "# Next step\n",
    "[Region selction](./1_region_selection.ipynb)"
   ]
  }
 ],
 "metadata": {
  "kernelspec": {
   "display_name": "Python 3 (ipykernel)",
   "language": "python",
   "name": "python3"
  },
  "language_info": {
   "codemirror_mode": {
    "name": "ipython",
    "version": 3
   },
   "file_extension": ".py",
   "mimetype": "text/x-python",
   "name": "python",
   "nbconvert_exporter": "python",
   "pygments_lexer": "ipython3",
   "version": "3.9.13"
  }
 },
 "nbformat": 4,
 "nbformat_minor": 5
}
