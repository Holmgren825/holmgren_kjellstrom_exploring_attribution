{
 "cells": [
  {
   "cell_type": "markdown",
   "id": "eb4ea2f3-5546-4c4c-9a8c-0a12b28456da",
   "metadata": {},
   "source": [
    "# Validation\n",
    "In this notebook we will validate model datasets against the GridClim product, or any other gridded observations.\n",
    "There are four metrics available in `attribution.validation`\n",
    "- The average anomaly\n",
    "- The monthly average anomaly\n",
    "- A seasonal correlation index\n",
    "- A spatial correlation index"
   ]
  },
  {
   "cell_type": "code",
   "execution_count": 1,
   "id": "5a4d4aa0-cad4-4684-91ab-a7a051c86db9",
   "metadata": {},
   "outputs": [
    {
     "name": "stderr",
     "output_type": "stream",
     "text": [
      "/home/sm_erhol/dev/attribution/attribution/bootstrap.py:8: TqdmExperimentalWarning: Using `tqdm.autonotebook.tqdm` in notebook mode. Use `tqdm.tqdm` instead to force console mode (e.g. in jupyter console)\n",
      "  from tqdm.autonotebook import tqdm\n"
     ]
    }
   ],
   "source": [
    "import glob\n",
    "import os\n",
    "from importlib import reload\n",
    "\n",
    "import attribution.validation\n",
    "import dask\n",
    "import iris\n",
    "import iris.plot as iplt\n",
    "import numpy as np\n",
    "import pandas as pd\n",
    "from attribution.config import init_config\n",
    "from dask.distributed import Client\n",
    "from matplotlib import pyplot as plt"
   ]
  },
  {
   "cell_type": "code",
   "execution_count": 2,
   "id": "7d8370f4-5067-4eeb-b424-4e484716ea32",
   "metadata": {},
   "outputs": [],
   "source": [
    "client = Client()"
   ]
  },
  {
   "cell_type": "code",
   "execution_count": 3,
   "id": "3e06b5ef-3dac-4bdd-b6d9-9723d7c6837f",
   "metadata": {},
   "outputs": [],
   "source": [
    "CFG = init_config()"
   ]
  },
  {
   "cell_type": "code",
   "execution_count": 4,
   "id": "7c70e10c-ff3f-4633-a434-62ec3bbec37f",
   "metadata": {},
   "outputs": [],
   "source": [
    "# Where do we store the data?\n",
    "project_folder = CFG[\"paths\"][\"project_folder\"]"
   ]
  },
  {
   "cell_type": "code",
   "execution_count": 5,
   "id": "bd0e7ec7-3ed3-41da-a72a-f59c6fc01c8e",
   "metadata": {},
   "outputs": [],
   "source": [
    "# We are investigating multiple variables, have to select one.\n",
    "variables = CFG[\"variable\"]"
   ]
  },
  {
   "cell_type": "code",
   "execution_count": 6,
   "id": "9ba2e8c3-a0e7-4869-a570-468f49f9b6e1",
   "metadata": {},
   "outputs": [
    {
     "name": "stdout",
     "output_type": "stream",
     "text": [
      "tasmax\n"
     ]
    }
   ],
   "source": [
    "# Which variable will we use?\n",
    "variable = variables[0]\n",
    "print(variable)"
   ]
  },
  {
   "cell_type": "code",
   "execution_count": 7,
   "id": "30402f01-9659-4ef5-907b-3b2fb0972778",
   "metadata": {},
   "outputs": [],
   "source": [
    "gc_path = glob.glob(os.path.join(project_folder,  f\"{variable}*GridClim*.nc\"))\n",
    "cordex_path = glob.glob(os.path.join(project_folder, f\"{variable}*CORDEX*.nc\"))"
   ]
  },
  {
   "cell_type": "code",
   "execution_count": 8,
   "id": "61811001-5f3e-4a0b-9253-222f43d478d7",
   "metadata": {},
   "outputs": [
    {
     "name": "stderr",
     "output_type": "stream",
     "text": [
      "/tmp/ipykernel_11352/298512951.py:2: FutureWarning: Ignoring a datum in netCDF load for consistency with existing behaviour. In a future version of Iris, this datum will be applied. To apply the datum when loading, use the iris.FUTURE.datum_support flag.\n",
      "  gc_cube = iris.load_cube(gc_path)\n",
      "/tmp/ipykernel_11352/298512951.py:4: FutureWarning: Ignoring a datum in netCDF load for consistency with existing behaviour. In a future version of Iris, this datum will be applied. To apply the datum when loading, use the iris.FUTURE.datum_support flag.\n",
      "  cordex_cube = iris.load_cube(cordex_path)\n"
     ]
    }
   ],
   "source": [
    "# GridClim\n",
    "gc_cube = iris.load_cube(gc_path)\n",
    "# Cordex\n",
    "cordex_cube = iris.load_cube(cordex_path)"
   ]
  },
  {
   "cell_type": "markdown",
   "id": "ef09e5f0-3fb6-4707-bca0-7d7b540ae05a",
   "metadata": {},
   "source": [
    "## Average (daily) anomaly\n",
    "This calculates the average day anomaly between the model and reference dataset."
   ]
  },
  {
   "cell_type": "code",
   "execution_count": 9,
   "id": "ce071aa2-f0c8-4b38-b7fd-88d5f8379b03",
   "metadata": {},
   "outputs": [
    {
     "name": "stderr",
     "output_type": "stream",
     "text": [
      "/home/sm_erhol/.conda/envs/erhol/lib/python3.10/site-packages/iris/analysis/cartography.py:394: UserWarning: Using DEFAULT_SPHERICAL_EARTH_RADIUS.\n",
      "  warnings.warn(\"Using DEFAULT_SPHERICAL_EARTH_RADIUS.\")\n"
     ]
    }
   ],
   "source": [
    "average_anomaly = attribution.validation.average_anomaly(cordex_cube, gc_cube)"
   ]
  },
  {
   "cell_type": "markdown",
   "id": "160c4c7d-57bd-43bb-9d8d-0d3b9ef6e977",
   "metadata": {},
   "source": [
    "Note that since the cube data is lazy, the above step doesn't actually perform the calculation.\n",
    "This happens first when we need the data, like below."
   ]
  },
  {
   "cell_type": "code",
   "execution_count": 10,
   "id": "1e612cd6-bc5c-4dcc-8c32-4bd7b0e497e0",
   "metadata": {},
   "outputs": [
    {
     "data": {
      "text/plain": [
       "masked_array(data=[0.02470068, 0.04263533, 0.12229737, 0.05447186,\n",
       "                   0.14864741, 0.14248091, 0.12344603, 0.12869356,\n",
       "                   0.09480892, 0.06586543, 0.12809428, 0.20485643,\n",
       "                   0.06805379, 0.16460385, 0.09835906, 0.03320235,\n",
       "                   0.03475651, 0.03864188, 0.03343472, 0.15728814,\n",
       "                   0.18471139, 0.02701622, 0.05009516, 0.12289297,\n",
       "                   0.10228395, 0.02486696, 0.02943476, 0.07067249,\n",
       "                   0.03090618, 0.02507413, 0.0323759 , 0.08691694,\n",
       "                   0.0677028 , 0.03682929, 0.06210044, 0.04367879,\n",
       "                   0.08495711, 0.03288937, 0.05240937, 0.04021105,\n",
       "                   0.03507161, 0.24875904, 0.2307421 , 0.36306812,\n",
       "                   0.05022454, 0.22094794, 0.20978311, 0.04064428,\n",
       "                   0.17193602, 0.27398672, 0.19574699, 0.19446234,\n",
       "                   0.22157214, 0.41526384, 0.19977783, 0.2994604 ,\n",
       "                   0.02719066, 0.2315728 , 0.15503526, 0.21517728,\n",
       "                   0.13361853, 0.18734591, 0.27985135, 0.17953047,\n",
       "                   0.11433469, 0.25310705],\n",
       "             mask=False,\n",
       "       fill_value=1e+20)"
      ]
     },
     "execution_count": 10,
     "metadata": {},
     "output_type": "execute_result"
    }
   ],
   "source": [
    "# Print the average anomaly as a percentage.\n",
    "average_anomaly.data * 100"
   ]
  },
  {
   "cell_type": "markdown",
   "id": "7c52d052-3b75-4d5a-a5a4-d62e17bcb073",
   "metadata": {},
   "source": [
    "## Average monthly anomaly\n"
   ]
  },
  {
   "cell_type": "code",
   "execution_count": 11,
   "id": "10bc0995-1478-4bf5-b378-72b81a992945",
   "metadata": {},
   "outputs": [
    {
     "name": "stderr",
     "output_type": "stream",
     "text": [
      "/home/sm_erhol/.conda/envs/erhol/lib/python3.10/site-packages/iris/coords.py:2223: UserWarning: Collapsing a non-contiguous coordinate. Metadata may not be fully descriptive for 'time'.\n",
      "  warnings.warn(msg.format(self.name()))\n",
      "/home/sm_erhol/.conda/envs/erhol/lib/python3.10/site-packages/iris/coords.py:2223: UserWarning: Collapsing a non-contiguous coordinate. Metadata may not be fully descriptive for 'year'.\n",
      "  warnings.warn(msg.format(self.name()))\n",
      "/home/sm_erhol/.conda/envs/erhol/lib/python3.10/site-packages/iris/analysis/cartography.py:394: UserWarning: Using DEFAULT_SPHERICAL_EARTH_RADIUS.\n",
      "  warnings.warn(\"Using DEFAULT_SPHERICAL_EARTH_RADIUS.\")\n"
     ]
    }
   ],
   "source": [
    "average_monthly_anomaly = attribution.validation.average_monthly_anomaly(\n",
    "    cordex_cube, gc_cube\n",
    ")"
   ]
  },
  {
   "cell_type": "code",
   "execution_count": 12,
   "id": "0127577b-3a81-494a-9101-5a31a4937907",
   "metadata": {},
   "outputs": [
    {
     "data": {
      "text/plain": [
       "masked_array(data=[0.13056592, 0.1319187 , 0.20149965, 0.16116541,\n",
       "                   0.19489767, 0.19587427, 0.15264203, 0.20121151,\n",
       "                   0.16618229, 0.15462652, 0.20884416, 0.25902771,\n",
       "                   0.15249099, 0.23122849, 0.16736746, 0.10953116,\n",
       "                   0.14734591, 0.14682785, 0.14110017, 0.2216421 ,\n",
       "                   0.26080939, 0.1342513 , 0.13394846, 0.20738143,\n",
       "                   0.17833268, 0.15933751, 0.1446479 , 0.20575523,\n",
       "                   0.13052691, 0.13773802, 0.18052141, 0.14828238,\n",
       "                   0.12781301, 0.12003914, 0.15005886, 0.13960783,\n",
       "                   0.12628491, 0.14096685, 0.1504453 , 0.16721578,\n",
       "                   0.11289474, 0.26159789, 0.25509457, 0.37183853,\n",
       "                   0.11542072, 0.24138795, 0.22745375, 0.11085283,\n",
       "                   0.18337672, 0.27733798, 0.21827833, 0.22923265,\n",
       "                   0.23916782, 0.42371432, 0.22209226, 0.32332459,\n",
       "                   0.10094573, 0.29025179, 0.23577885, 0.29296952,\n",
       "                   0.2023971 , 0.2401484 , 0.32822409, 0.25746677,\n",
       "                   0.25443195, 0.28125065],\n",
       "             mask=False,\n",
       "       fill_value=1e+20)"
      ]
     },
     "execution_count": 12,
     "metadata": {},
     "output_type": "execute_result"
    }
   ],
   "source": [
    "# The average seasonal anomaly as a percentage.\n",
    "average_monthly_anomaly.data * 100"
   ]
  },
  {
   "cell_type": "markdown",
   "id": "8c70bdd2-0065-4595-84b4-20724405caa3",
   "metadata": {
    "tags": []
   },
   "source": [
    "## Seasonal correlation index\n",
    "\n",
    "There are essentially two indices we can calculate here, depending on how hard we want to test the model.\n",
    "If we want to test the models ability to simulate the average year we don't need to set the arg `climatological` since this is `True` by default.\n",
    "This will correlate the average annual cycle for the model(s) and observations in each grid point.\n",
    "Doing this checks how well the model captures the average annual cycle for each grid point.\n",
    "\n",
    "By setting `climatological=False` every annual cycle is instead correlated i.e. monthly values.\n",
    "This is a much tougher metric, and more computationally demanding.\n",
    "\n",
    "There are also two version of this metric, one which follows the definition in the report \"Das Bayerische Klimaprojektionensemble\", and one which more directly follow the Kling-Gupta efficiency.\n",
    "This is switched with the `kge` kwarg."
   ]
  },
  {
   "cell_type": "code",
   "execution_count": 13,
   "id": "6de5377a-afcd-4eb5-98c7-9d0cfe53cb12",
   "metadata": {},
   "outputs": [
    {
     "name": "stderr",
     "output_type": "stream",
     "text": [
      "/home/sm_erhol/.conda/envs/erhol/lib/python3.10/site-packages/iris/coords.py:2223: UserWarning: Collapsing a non-contiguous coordinate. Metadata may not be fully descriptive for 'time'.\n",
      "  warnings.warn(msg.format(self.name()))\n",
      "/home/sm_erhol/.conda/envs/erhol/lib/python3.10/site-packages/iris/coords.py:2223: UserWarning: Collapsing a non-contiguous coordinate. Metadata may not be fully descriptive for 'year'.\n",
      "  warnings.warn(msg.format(self.name()))\n",
      "/home/sm_erhol/.conda/envs/erhol/lib/python3.10/site-packages/iris/coords.py:2223: UserWarning: Collapsing a non-contiguous coordinate. Metadata may not be fully descriptive for 'time'.\n",
      "  warnings.warn(msg.format(self.name()))\n",
      "/home/sm_erhol/.conda/envs/erhol/lib/python3.10/site-packages/iris/coords.py:2223: UserWarning: Collapsing a non-contiguous coordinate. Metadata may not be fully descriptive for 'year'.\n",
      "  warnings.warn(msg.format(self.name()))\n",
      "/home/sm_erhol/.conda/envs/erhol/lib/python3.10/site-packages/iris/coords.py:2223: UserWarning: Collapsing a non-contiguous coordinate. Metadata may not be fully descriptive for 'time'.\n",
      "  warnings.warn(msg.format(self.name()))\n",
      "/home/sm_erhol/.conda/envs/erhol/lib/python3.10/site-packages/iris/coords.py:2223: UserWarning: Collapsing a non-contiguous coordinate. Metadata may not be fully descriptive for 'year'.\n",
      "  warnings.warn(msg.format(self.name()))\n",
      "/home/sm_erhol/.conda/envs/erhol/lib/python3.10/site-packages/iris/coords.py:2223: UserWarning: Collapsing a non-contiguous coordinate. Metadata may not be fully descriptive for 'time'.\n",
      "  warnings.warn(msg.format(self.name()))\n",
      "/home/sm_erhol/.conda/envs/erhol/lib/python3.10/site-packages/iris/coords.py:2223: UserWarning: Collapsing a non-contiguous coordinate. Metadata may not be fully descriptive for 'year'.\n",
      "  warnings.warn(msg.format(self.name()))\n",
      "/home/sm_erhol/.conda/envs/erhol/lib/python3.10/site-packages/iris/coords.py:2223: UserWarning: Collapsing a non-contiguous coordinate. Metadata may not be fully descriptive for 'time'.\n",
      "  warnings.warn(msg.format(self.name()))\n",
      "/home/sm_erhol/.conda/envs/erhol/lib/python3.10/site-packages/iris/coords.py:2223: UserWarning: Collapsing a non-contiguous coordinate. Metadata may not be fully descriptive for 'year'.\n",
      "  warnings.warn(msg.format(self.name()))\n",
      "/home/sm_erhol/.conda/envs/erhol/lib/python3.10/site-packages/iris/coords.py:2223: UserWarning: Collapsing a non-contiguous coordinate. Metadata may not be fully descriptive for 'year'.\n",
      "  warnings.warn(msg.format(self.name()))\n",
      "/home/sm_erhol/.conda/envs/erhol/lib/python3.10/site-packages/iris/coords.py:2223: UserWarning: Collapsing a non-contiguous coordinate. Metadata may not be fully descriptive for 'year'.\n",
      "  warnings.warn(msg.format(self.name()))\n",
      "/home/sm_erhol/.conda/envs/erhol/lib/python3.10/site-packages/iris/coords.py:2223: UserWarning: Collapsing a non-contiguous coordinate. Metadata may not be fully descriptive for 'time'.\n",
      "  warnings.warn(msg.format(self.name()))\n",
      "/home/sm_erhol/.conda/envs/erhol/lib/python3.10/site-packages/iris/coords.py:2223: UserWarning: Collapsing a non-contiguous coordinate. Metadata may not be fully descriptive for 'year'.\n",
      "  warnings.warn(msg.format(self.name()))\n",
      "/home/sm_erhol/.conda/envs/erhol/lib/python3.10/site-packages/iris/coords.py:2223: UserWarning: Collapsing a non-contiguous coordinate. Metadata may not be fully descriptive for 'time'.\n",
      "  warnings.warn(msg.format(self.name()))\n",
      "/home/sm_erhol/.conda/envs/erhol/lib/python3.10/site-packages/iris/coords.py:2223: UserWarning: Collapsing a non-contiguous coordinate. Metadata may not be fully descriptive for 'year'.\n",
      "  warnings.warn(msg.format(self.name()))\n",
      "/home/sm_erhol/.conda/envs/erhol/lib/python3.10/site-packages/iris/analysis/cartography.py:394: UserWarning: Using DEFAULT_SPHERICAL_EARTH_RADIUS.\n",
      "  warnings.warn(\"Using DEFAULT_SPHERICAL_EARTH_RADIUS.\")\n",
      "/home/sm_erhol/.conda/envs/erhol/lib/python3.10/site-packages/iris/coords.py:2223: UserWarning: Collapsing a non-contiguous coordinate. Metadata may not be fully descriptive for 'time'.\n",
      "  warnings.warn(msg.format(self.name()))\n",
      "/home/sm_erhol/.conda/envs/erhol/lib/python3.10/site-packages/iris/coords.py:2223: UserWarning: Collapsing a non-contiguous coordinate. Metadata may not be fully descriptive for 'year'.\n",
      "  warnings.warn(msg.format(self.name()))\n",
      "/home/sm_erhol/.conda/envs/erhol/lib/python3.10/site-packages/iris/coords.py:2223: UserWarning: Collapsing a non-contiguous coordinate. Metadata may not be fully descriptive for 'time'.\n",
      "  warnings.warn(msg.format(self.name()))\n",
      "/home/sm_erhol/.conda/envs/erhol/lib/python3.10/site-packages/iris/coords.py:2223: UserWarning: Collapsing a non-contiguous coordinate. Metadata may not be fully descriptive for 'year'.\n",
      "  warnings.warn(msg.format(self.name()))\n",
      "/home/sm_erhol/.conda/envs/erhol/lib/python3.10/site-packages/iris/coords.py:2223: UserWarning: Collapsing a non-contiguous coordinate. Metadata may not be fully descriptive for 'time'.\n",
      "  warnings.warn(msg.format(self.name()))\n",
      "/home/sm_erhol/.conda/envs/erhol/lib/python3.10/site-packages/iris/coords.py:2223: UserWarning: Collapsing a non-contiguous coordinate. Metadata may not be fully descriptive for 'year'.\n",
      "  warnings.warn(msg.format(self.name()))\n",
      "/home/sm_erhol/.conda/envs/erhol/lib/python3.10/site-packages/iris/coords.py:2223: UserWarning: Collapsing a non-contiguous coordinate. Metadata may not be fully descriptive for 'time'.\n",
      "  warnings.warn(msg.format(self.name()))\n",
      "/home/sm_erhol/.conda/envs/erhol/lib/python3.10/site-packages/iris/coords.py:2223: UserWarning: Collapsing a non-contiguous coordinate. Metadata may not be fully descriptive for 'year'.\n",
      "  warnings.warn(msg.format(self.name()))\n",
      "/home/sm_erhol/.conda/envs/erhol/lib/python3.10/site-packages/iris/coords.py:2223: UserWarning: Collapsing a non-contiguous coordinate. Metadata may not be fully descriptive for 'time'.\n",
      "  warnings.warn(msg.format(self.name()))\n",
      "/home/sm_erhol/.conda/envs/erhol/lib/python3.10/site-packages/iris/coords.py:2223: UserWarning: Collapsing a non-contiguous coordinate. Metadata may not be fully descriptive for 'year'.\n",
      "  warnings.warn(msg.format(self.name()))\n",
      "/home/sm_erhol/.conda/envs/erhol/lib/python3.10/site-packages/iris/coords.py:2223: UserWarning: Collapsing a non-contiguous coordinate. Metadata may not be fully descriptive for 'time'.\n",
      "  warnings.warn(msg.format(self.name()))\n",
      "/home/sm_erhol/.conda/envs/erhol/lib/python3.10/site-packages/iris/coords.py:2223: UserWarning: Collapsing a non-contiguous coordinate. Metadata may not be fully descriptive for 'year'.\n",
      "  warnings.warn(msg.format(self.name()))\n",
      "/home/sm_erhol/.conda/envs/erhol/lib/python3.10/site-packages/iris/coords.py:2223: UserWarning: Collapsing a non-contiguous coordinate. Metadata may not be fully descriptive for 'time'.\n",
      "  warnings.warn(msg.format(self.name()))\n",
      "/home/sm_erhol/.conda/envs/erhol/lib/python3.10/site-packages/iris/coords.py:2223: UserWarning: Collapsing a non-contiguous coordinate. Metadata may not be fully descriptive for 'year'.\n",
      "  warnings.warn(msg.format(self.name()))\n",
      "/home/sm_erhol/.conda/envs/erhol/lib/python3.10/site-packages/iris/analysis/cartography.py:394: UserWarning: Using DEFAULT_SPHERICAL_EARTH_RADIUS.\n",
      "  warnings.warn(\"Using DEFAULT_SPHERICAL_EARTH_RADIUS.\")\n"
     ]
    }
   ],
   "source": [
    "seasonality_index = attribution.validation.seasonality_index(\n",
    "    cordex_cube, gc_cube, kge=False\n",
    ")\n",
    "seasonality_index_kge = attribution.validation.seasonality_index(\n",
    "    cordex_cube, gc_cube, kge=True\n",
    ")"
   ]
  },
  {
   "cell_type": "code",
   "execution_count": 14,
   "id": "447641e4-7dff-4444-9c98-4119a9a7a2a0",
   "metadata": {},
   "outputs": [
    {
     "data": {
      "text/plain": [
       "masked_array(data=[0.97569263, 0.97623617, 0.98479301, 0.97211201,\n",
       "                   0.99004929, 0.99006441, 0.98985097, 0.9814479 ,\n",
       "                   0.98082035, 0.98576553, 0.98959309, 0.93347707,\n",
       "                   0.98768412, 0.98801475, 0.96438424, 0.98317449,\n",
       "                   0.98889188, 0.9821033 , 0.98854337, 0.98841832,\n",
       "                   0.9331463 , 0.99163913, 0.987898  , 0.98571287,\n",
       "                   0.96459438, 0.94194575, 0.95663277, 0.94467288,\n",
       "                   0.95919937, 0.95668494, 0.98632865, 0.96458347,\n",
       "                   0.98757689, 0.98805588, 0.98736504, 0.98556002,\n",
       "                   0.988899  , 0.98995162, 0.98828807, 0.95856509,\n",
       "                   0.97957098, 0.98905746, 0.98419373, 0.93335635,\n",
       "                   0.98178652, 0.98636331, 0.98879605, 0.99030189,\n",
       "                   0.99146144, 0.99057369, 0.99232804, 0.95650793,\n",
       "                   0.98961368, 0.92579013, 0.98072681, 0.91622734,\n",
       "                   0.98852707, 0.93093013, 0.93893655, 0.93238486,\n",
       "                   0.96052077, 0.93953659, 0.93053952, 0.9308316 ,\n",
       "                   0.91418109, 0.95086912],\n",
       "             mask=False,\n",
       "       fill_value=1e+20)"
      ]
     },
     "execution_count": 14,
     "metadata": {},
     "output_type": "execute_result"
    }
   ],
   "source": [
    "seasonality_index.data"
   ]
  },
  {
   "cell_type": "code",
   "execution_count": 15,
   "id": "4b6f8253-a658-4484-97f3-7454df5583bb",
   "metadata": {},
   "outputs": [
    {
     "data": {
      "text/plain": [
       "masked_array(data=[0.8912327 , 0.88762622, 0.90063503, 0.92876504,\n",
       "                   0.92344917, 0.92561695, 0.91913462, 0.91688976,\n",
       "                   0.90041867, 0.90028122, 0.86545323, 0.93340284,\n",
       "                   0.88379059, 0.90553359, 0.92309383, 0.89762842,\n",
       "                   0.87270125, 0.86427852, 0.88671199, 0.89999452,\n",
       "                   0.9344564 , 0.88030585, 0.87258724, 0.89952491,\n",
       "                   0.94100684, 0.89983968, 0.91769379, 0.91660974,\n",
       "                   0.92371404, 0.92611955, 0.91143518, 0.87630046,\n",
       "                   0.89552907, 0.88388847, 0.90221956, 0.89004341,\n",
       "                   0.88308905, 0.87770513, 0.88851653, 0.87770899,\n",
       "                   0.91445767, 0.89806974, 0.88320655, 0.86772188,\n",
       "                   0.89194178, 0.90257284, 0.89492251, 0.89323544,\n",
       "                   0.90339652, 0.86265304, 0.9090939 , 0.89585076,\n",
       "                   0.88582764, 0.88191578, 0.86748168, 0.82958174,\n",
       "                   0.89508619, 0.85306983, 0.88267102, 0.88739675,\n",
       "                   0.88454505, 0.90234039, 0.89551467, 0.87858257,\n",
       "                   0.83359061, 0.87348295],\n",
       "             mask=False,\n",
       "       fill_value=1e+20)"
      ]
     },
     "execution_count": 15,
     "metadata": {},
     "output_type": "execute_result"
    }
   ],
   "source": [
    "seasonality_index_kge.data"
   ]
  },
  {
   "cell_type": "markdown",
   "id": "15308d04-6589-4088-b515-86c51e494fa4",
   "metadata": {},
   "source": [
    "## Spatial correlation\n",
    "Measures the spatial correlation between model and reference dataset."
   ]
  },
  {
   "cell_type": "code",
   "execution_count": 16,
   "id": "28ac6cd7-72a3-441f-8bea-dd7e0936dfc9",
   "metadata": {},
   "outputs": [
    {
     "name": "stderr",
     "output_type": "stream",
     "text": [
      "/home/sm_erhol/.conda/envs/erhol/lib/python3.10/site-packages/iris/coords.py:2223: UserWarning: Collapsing a non-contiguous coordinate. Metadata may not be fully descriptive for 'grid_latitude'.\n",
      "  warnings.warn(msg.format(self.name()))\n",
      "/home/sm_erhol/.conda/envs/erhol/lib/python3.10/site-packages/iris/coords.py:2223: UserWarning: Collapsing a non-contiguous coordinate. Metadata may not be fully descriptive for 'grid_longitude'.\n",
      "  warnings.warn(msg.format(self.name()))\n",
      "/home/sm_erhol/.conda/envs/erhol/lib/python3.10/site-packages/iris/coords.py:2217: UserWarning: Collapsing a multi-dimensional coordinate. Metadata may not be fully descriptive for 'latitude'.\n",
      "  warnings.warn(msg.format(self.name()))\n",
      "/home/sm_erhol/.conda/envs/erhol/lib/python3.10/site-packages/iris/coords.py:2217: UserWarning: Collapsing a multi-dimensional coordinate. Metadata may not be fully descriptive for 'longitude'.\n",
      "  warnings.warn(msg.format(self.name()))\n",
      "/home/sm_erhol/.conda/envs/erhol/lib/python3.10/site-packages/iris/coords.py:2223: UserWarning: Collapsing a non-contiguous coordinate. Metadata may not be fully descriptive for 'grid_latitude'.\n",
      "  warnings.warn(msg.format(self.name()))\n",
      "/home/sm_erhol/.conda/envs/erhol/lib/python3.10/site-packages/iris/coords.py:2223: UserWarning: Collapsing a non-contiguous coordinate. Metadata may not be fully descriptive for 'grid_longitude'.\n",
      "  warnings.warn(msg.format(self.name()))\n",
      "/home/sm_erhol/.conda/envs/erhol/lib/python3.10/site-packages/iris/coords.py:2217: UserWarning: Collapsing a multi-dimensional coordinate. Metadata may not be fully descriptive for 'latitude'.\n",
      "  warnings.warn(msg.format(self.name()))\n",
      "/home/sm_erhol/.conda/envs/erhol/lib/python3.10/site-packages/iris/coords.py:2217: UserWarning: Collapsing a multi-dimensional coordinate. Metadata may not be fully descriptive for 'longitude'.\n",
      "  warnings.warn(msg.format(self.name()))\n",
      "/home/sm_erhol/.conda/envs/erhol/lib/python3.10/site-packages/iris/coords.py:2223: UserWarning: Collapsing a non-contiguous coordinate. Metadata may not be fully descriptive for 'grid_latitude'.\n",
      "  warnings.warn(msg.format(self.name()))\n",
      "/home/sm_erhol/.conda/envs/erhol/lib/python3.10/site-packages/iris/coords.py:2223: UserWarning: Collapsing a non-contiguous coordinate. Metadata may not be fully descriptive for 'grid_longitude'.\n",
      "  warnings.warn(msg.format(self.name()))\n",
      "/home/sm_erhol/.conda/envs/erhol/lib/python3.10/site-packages/iris/coords.py:2217: UserWarning: Collapsing a multi-dimensional coordinate. Metadata may not be fully descriptive for 'latitude'.\n",
      "  warnings.warn(msg.format(self.name()))\n",
      "/home/sm_erhol/.conda/envs/erhol/lib/python3.10/site-packages/iris/coords.py:2217: UserWarning: Collapsing a multi-dimensional coordinate. Metadata may not be fully descriptive for 'longitude'.\n",
      "  warnings.warn(msg.format(self.name()))\n",
      "/home/sm_erhol/.conda/envs/erhol/lib/python3.10/site-packages/iris/coords.py:2223: UserWarning: Collapsing a non-contiguous coordinate. Metadata may not be fully descriptive for 'grid_latitude'.\n",
      "  warnings.warn(msg.format(self.name()))\n",
      "/home/sm_erhol/.conda/envs/erhol/lib/python3.10/site-packages/iris/coords.py:2223: UserWarning: Collapsing a non-contiguous coordinate. Metadata may not be fully descriptive for 'grid_longitude'.\n",
      "  warnings.warn(msg.format(self.name()))\n",
      "/home/sm_erhol/.conda/envs/erhol/lib/python3.10/site-packages/iris/coords.py:2217: UserWarning: Collapsing a multi-dimensional coordinate. Metadata may not be fully descriptive for 'latitude'.\n",
      "  warnings.warn(msg.format(self.name()))\n",
      "/home/sm_erhol/.conda/envs/erhol/lib/python3.10/site-packages/iris/coords.py:2217: UserWarning: Collapsing a multi-dimensional coordinate. Metadata may not be fully descriptive for 'longitude'.\n",
      "  warnings.warn(msg.format(self.name()))\n",
      "/home/sm_erhol/.conda/envs/erhol/lib/python3.10/site-packages/iris/coords.py:2223: UserWarning: Collapsing a non-contiguous coordinate. Metadata may not be fully descriptive for 'grid_latitude'.\n",
      "  warnings.warn(msg.format(self.name()))\n",
      "/home/sm_erhol/.conda/envs/erhol/lib/python3.10/site-packages/iris/coords.py:2223: UserWarning: Collapsing a non-contiguous coordinate. Metadata may not be fully descriptive for 'grid_longitude'.\n",
      "  warnings.warn(msg.format(self.name()))\n",
      "/home/sm_erhol/.conda/envs/erhol/lib/python3.10/site-packages/iris/coords.py:2217: UserWarning: Collapsing a multi-dimensional coordinate. Metadata may not be fully descriptive for 'latitude'.\n",
      "  warnings.warn(msg.format(self.name()))\n",
      "/home/sm_erhol/.conda/envs/erhol/lib/python3.10/site-packages/iris/coords.py:2217: UserWarning: Collapsing a multi-dimensional coordinate. Metadata may not be fully descriptive for 'longitude'.\n",
      "  warnings.warn(msg.format(self.name()))\n",
      "/home/sm_erhol/.conda/envs/erhol/lib/python3.10/site-packages/iris/coords.py:2223: UserWarning: Collapsing a non-contiguous coordinate. Metadata may not be fully descriptive for 'year'.\n",
      "  warnings.warn(msg.format(self.name()))\n"
     ]
    }
   ],
   "source": [
    "pattern_index = attribution.validation.pattern_index(cordex_cube, gc_cube)"
   ]
  },
  {
   "cell_type": "code",
   "execution_count": 17,
   "id": "140b61ea-edd7-4a72-bb56-bfa4ac9548d5",
   "metadata": {},
   "outputs": [
    {
     "data": {
      "text/plain": [
       "masked_array(data=[0.94427043, 0.9057405 , 0.9228785 , 0.94113064,\n",
       "                   0.90813535, 0.8954709 , 0.9016418 , 0.92411685,\n",
       "                   0.94117486, 0.93929374, 0.9364288 , 0.9362363 ,\n",
       "                   0.9141613 , 0.924579  , 0.925389  , 0.8934054 ,\n",
       "                   0.94370717, 0.92170775, 0.92711234, 0.92962706,\n",
       "                   0.9260852 , 0.9499937 , 0.921403  , 0.91723645,\n",
       "                   0.9235031 , 0.93570113, 0.92121816, 0.9421294 ,\n",
       "                   0.9406837 , 0.94300026, 0.9309614 , 0.9080189 ,\n",
       "                   0.935829  , 0.9396764 , 0.91469586, 0.91022944,\n",
       "                   0.9376457 , 0.9252795 , 0.93925136, 0.9426521 ,\n",
       "                   0.93255454, 0.9418003 , 0.9431238 , 0.94470143,\n",
       "                   0.93974   , 0.9395513 , 0.93843585, 0.9069074 ,\n",
       "                   0.94216686, 0.92282313, 0.93251526, 0.9451926 ,\n",
       "                   0.9120572 , 0.9185193 , 0.93010825, 0.93808836,\n",
       "                   0.92175096, 0.9397377 , 0.9424222 , 0.8965938 ,\n",
       "                   0.8928337 , 0.93703246, 0.9303538 , 0.9282965 ,\n",
       "                   0.94949514, 0.927543  ],\n",
       "             mask=False,\n",
       "       fill_value=1e+20,\n",
       "            dtype=float32)"
      ]
     },
     "execution_count": 17,
     "metadata": {},
     "output_type": "execute_result"
    }
   ],
   "source": [
    "pattern_index.data"
   ]
  },
  {
   "cell_type": "markdown",
   "id": "3e22d680-0b1d-47f6-96c5-317f94591579",
   "metadata": {},
   "source": [
    "## Homogenise the scores\n",
    "Mapping the index to scores between 0 and 10.\n",
    "The bins used are based on values from the paper/report on the Bavarian climate projection ensemble."
   ]
  },
  {
   "cell_type": "code",
   "execution_count": 18,
   "id": "3a0eebf0-16d2-4284-aae0-cb23cc77e18d",
   "metadata": {},
   "outputs": [],
   "source": [
    "# Scores for index 1 and 2\n",
    "indx_1_scores = attribution.validation.get_scores(\n",
    "    average_anomaly.data * 100,\n",
    "    bins=np.arange(5, 51, 5),\n",
    "    score_bins=np.arange(10, -1, -1),\n",
    ")\n",
    "indx_2_scores = attribution.validation.get_scores(\n",
    "    average_monthly_anomaly.data * 100,\n",
    "    bins=np.arange(5, 51, 5),\n",
    "    score_bins=np.arange(10, -1, -1),\n",
    ")"
   ]
  },
  {
   "cell_type": "code",
   "execution_count": 19,
   "id": "29014901-fe0e-4b9b-89e9-1ff909635aab",
   "metadata": {},
   "outputs": [],
   "source": [
    "# Scores for index 3 and 4\n",
    "indx_3_scores = attribution.validation.get_scores(\n",
    "    seasonality_index.data,\n",
    "    bins=np.arange(0.92, 0.19, -0.08),\n",
    "    score_bins=np.arange(10, -1, -1),\n",
    ")\n",
    "indx_4_scores = attribution.validation.get_scores(\n",
    "    pattern_index.data,\n",
    "    bins=np.arange(0.92, 0.19, -0.08),\n",
    "    score_bins=np.arange(10, -1, -1),\n",
    ")"
   ]
  },
  {
   "cell_type": "code",
   "execution_count": 20,
   "id": "ce2f85e5-cf58-4a0e-bd33-cd1805dbc975",
   "metadata": {},
   "outputs": [],
   "source": [
    "# Stack the scores\n",
    "data = np.stack(\n",
    "    [\n",
    "        indx_1_scores,\n",
    "        indx_2_scores,\n",
    "        indx_3_scores,\n",
    "        indx_4_scores,\n",
    "    ],\n",
    "    axis=1,\n",
    ")"
   ]
  },
  {
   "cell_type": "markdown",
   "id": "8289b4e2-9986-4e1b-819a-aa95925422da",
   "metadata": {},
   "source": [
    "Create a `pandas.Dataframe` of the scores"
   ]
  },
  {
   "cell_type": "code",
   "execution_count": 21,
   "id": "04e2fb81-0be4-4e83-8191-fbc5cb4a4306",
   "metadata": {},
   "outputs": [],
   "source": [
    "# Create a dataframe of the scores.\n",
    "scores_df = pd.DataFrame(data=data, columns=[\"Idx_1\", \"Idx_2\", \"Idx_3\", \"Idx_4\"])\n",
    "# Add the ensemble id\n",
    "scores_df[\"ensemble_id\"] = cordex_cube.coord(\"ensemble_id\").points\n",
    "scores_df = scores_df[[\"ensemble_id\", \"Idx_1\", \"Idx_2\", \"Idx_3\", \"Idx_4\"]]"
   ]
  },
  {
   "cell_type": "code",
   "execution_count": 22,
   "id": "0f3a9a0e-4eec-4346-a92a-021ef531aacb",
   "metadata": {},
   "outputs": [],
   "source": [
    "# Add a sum of the scores.\n",
    "scores_df[\"Sum_scores\"] = scores_df.sum(axis=1, numeric_only=True)"
   ]
  },
  {
   "cell_type": "code",
   "execution_count": 23,
   "id": "be5489bd-823f-4db7-979f-fe437de985ad",
   "metadata": {},
   "outputs": [
    {
     "data": {
      "text/plain": [
       "ensemble_id    CCCma-CanESM2--CLMcom-CCLM4-8-17--r1i1p1\n",
       "Idx_1                                                10\n",
       "Idx_2                                                10\n",
       "Idx_3                                                 9\n",
       "Idx_4                                                 9\n",
       "Sum_scores                                           39\n",
       "dtype: object"
      ]
     },
     "execution_count": 23,
     "metadata": {},
     "output_type": "execute_result"
    }
   ],
   "source": [
    "scores_df.min()"
   ]
  },
  {
   "cell_type": "markdown",
   "id": "b939a29f-71d1-4aa1-b81f-95b769939812",
   "metadata": {},
   "source": [
    "With these scores we can evaluate if there are any models that should be excluded from the rest of the study.\n",
    "In this particular case, the lowest total score is 32, which is still acceptable, and we don't exclude any models based on this step."
   ]
  },
  {
   "cell_type": "code",
   "execution_count": 26,
   "id": "c8ec2529-09e7-4349-8512-04d24835dd75",
   "metadata": {},
   "outputs": [],
   "source": [
    "# Save the scores to a csv.\n",
    "scores_df.to_csv(os.path.join(project_folder, \"scores.csv\"))"
   ]
  },
  {
   "cell_type": "code",
   "execution_count": null,
   "id": "9b83b720-2a20-47ac-970e-ed205c28484a",
   "metadata": {},
   "outputs": [],
   "source": [
    "client.shutdown()"
   ]
  },
  {
   "cell_type": "markdown",
   "id": "0ca754f6-6e64-4bcb-8037-24cac84f43bf",
   "metadata": {},
   "source": [
    "## Next step\n",
    "\n",
    "[Attribution](4_attribution.ipynb)"
   ]
  }
 ],
 "metadata": {
  "kernelspec": {
   "display_name": "Python 3 (ipykernel)",
   "language": "python",
   "name": "python3"
  },
  "language_info": {
   "codemirror_mode": {
    "name": "ipython",
    "version": 3
   },
   "file_extension": ".py",
   "mimetype": "text/x-python",
   "name": "python",
   "nbconvert_exporter": "python",
   "pygments_lexer": "ipython3",
   "version": "3.10.10"
  }
 },
 "nbformat": 4,
 "nbformat_minor": 5
}
