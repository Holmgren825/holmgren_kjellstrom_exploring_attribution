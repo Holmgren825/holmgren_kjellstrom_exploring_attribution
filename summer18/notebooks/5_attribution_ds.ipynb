{
 "cells": [
  {
   "cell_type": "markdown",
   "id": "1171b6c8-7e92-46a6-887a-81c2c9bfb0a7",
   "metadata": {},
   "source": [
    "# Attribution using daily scaling\n",
    "\n",
    "This notebook is similar to the previous attribution notebook in that it calculates the probability ratios for an event.\n",
    "However, it differs in how the counterfactual climates are represented.\n",
    "In this notebook the counterfactual climate is instead represented by shifting the daily values based on the relationship between GMST and either the monthly median or monthly quantiles.\n",
    "The method is adapted from [Gilford et. al. (2022)](https://ascmo.copernicus.org/articles/8/135/2022/).\n",
    "\n",
    "Note that this method is experimental and requires further development."
   ]
  },
  {
   "cell_type": "markdown",
   "id": "7ff2cf07-bc99-46ad-807f-af0629c1a4e3",
   "metadata": {},
   "source": [
    "# Attribution: Observations"
   ]
  },
  {
   "cell_type": "code",
   "execution_count": null,
   "id": "d7bcb45f-6ee2-4ea2-b1e1-98fb19b96b41",
   "metadata": {},
   "outputs": [],
   "source": [
    "import glob\n",
    "import os\n",
    "from functools import partial\n",
    "\n",
    "import attribution.funcs\n",
    "import attribution.utils\n",
    "import attribution.validation\n",
    "import cartopy.crs as ccrs\n",
    "import iris\n",
    "import iris.plot as iplt\n",
    "import numpy as np\n",
    "import scipy.stats as scstats\n",
    "from attribution.config import init_config\n",
    "from climix.metadata import load_metadata\n",
    "from dask.distributed import Client\n",
    "from iris_utils.utils import get_weights\n",
    "from matplotlib import pyplot as plt"
   ]
  },
  {
   "cell_type": "code",
   "execution_count": null,
   "id": "d1f905fd",
   "metadata": {},
   "outputs": [],
   "source": [
    "client = Client()"
   ]
  },
  {
   "cell_type": "markdown",
   "id": "3b58fa55-c35a-4c6c-911d-2c21c826f5cb",
   "metadata": {},
   "source": [
    "We load in the the configuration from the project `.yml`."
   ]
  },
  {
   "cell_type": "code",
   "execution_count": null,
   "id": "68853220-409e-4e6e-a625-59e13a9aebcd",
   "metadata": {},
   "outputs": [],
   "source": [
    "CFG = init_config()"
   ]
  },
  {
   "cell_type": "code",
   "execution_count": null,
   "id": "d68e93fa-04e2-412f-8d39-9a7b9da73a72",
   "metadata": {
    "tags": []
   },
   "outputs": [],
   "source": [
    "# CFG"
   ]
  },
  {
   "cell_type": "markdown",
   "id": "f47d5354-38cc-4dd8-add9-b840d6486cc4",
   "metadata": {},
   "source": [
    "Fetch the prepared datasets"
   ]
  },
  {
   "cell_type": "code",
   "execution_count": null,
   "id": "891cd098-3286-4269-a265-482a66726608",
   "metadata": {},
   "outputs": [],
   "source": [
    "files = glob.glob(CFG[\"paths\"][\"project_folder\"] + f\"/{CFG['variable']}*.nc*\")"
   ]
  },
  {
   "cell_type": "code",
   "execution_count": null,
   "id": "2ef67620-c9a7-40e1-bea8-d2ef3a664a95",
   "metadata": {},
   "outputs": [],
   "source": [
    "files"
   ]
  },
  {
   "cell_type": "code",
   "execution_count": null,
   "id": "3ef44bb1-9007-4147-b69b-854ccda26c3e",
   "metadata": {},
   "outputs": [],
   "source": [
    "variable = CFG[\"variable\"][0]\n",
    "print(variable)"
   ]
  },
  {
   "cell_type": "markdown",
   "id": "1f213d8d-943e-4928-8153-620f516bb88f",
   "metadata": {
    "tags": []
   },
   "source": [
    "### Event definition\n",
    "We want to check how many days above 25 degrees there was during 2018.\n",
    "So before we can define the threshold we have to calculate the index."
   ]
  },
  {
   "cell_type": "code",
   "execution_count": null,
   "id": "245a8acd-7bd0-46e7-815a-4ace6eca8b46",
   "metadata": {},
   "outputs": [],
   "source": [
    "index_name = CFG[\"index_name\"][0]\n",
    "print(index_name)"
   ]
  },
  {
   "cell_type": "code",
   "execution_count": null,
   "id": "90d37d56-2291-4eb4-bac3-f6878fe2df96",
   "metadata": {},
   "outputs": [],
   "source": [
    "index_catalog = load_metadata()\n",
    "index = index_catalog.prepare_indices([index_name])[0]"
   ]
  },
  {
   "cell_type": "markdown",
   "id": "e00b345b-8cae-4104-a79d-2c962e852887",
   "metadata": {
    "tags": []
   },
   "source": [
    "## GridClim\n",
    "Load GridClim"
   ]
  },
  {
   "cell_type": "code",
   "execution_count": null,
   "id": "0cb1bb09-ad6c-4864-9a37-9b9693d96009",
   "metadata": {},
   "outputs": [],
   "source": [
    "file = glob.glob(CFG[\"paths\"][\"project_folder\"] + f\"/{variable}*GridClim*.nc\")"
   ]
  },
  {
   "cell_type": "code",
   "execution_count": null,
   "id": "db0be0ef-5597-430c-8d59-c28d2e193ca0",
   "metadata": {},
   "outputs": [],
   "source": [
    "# GridClim is the first file in the list.\n",
    "iris.FUTURE.datum_support = True\n",
    "cube = iris.load_cube(file)"
   ]
  },
  {
   "cell_type": "markdown",
   "id": "a6d237a5-9a8f-479b-a51b-0137b06bf292",
   "metadata": {},
   "source": [
    "Remove leap days. Their inclusion makes the quantile shifting problematic."
   ]
  },
  {
   "cell_type": "code",
   "execution_count": null,
   "id": "f84ded39-a735-4383-a68d-dad614b24d25",
   "metadata": {},
   "outputs": [],
   "source": [
    "# Add a leap day cooridnate.\n",
    "iris.coord_categorisation.add_categorised_coord(\n",
    "    cube,\n",
    "    \"leap\",\n",
    "    \"time\",\n",
    "    lambda coord, value: coord.units.num2date(value).month == 2\n",
    "    and coord.units.num2date(value).day == 29,\n",
    ")\n",
    "#  Create the constraint.\n",
    "leap_constraint = iris.Constraint(leap=False)\n",
    "# Here remove leap days\n",
    "cube = cube.extract(leap_constraint)"
   ]
  },
  {
   "cell_type": "markdown",
   "id": "d4ae91ca-c97a-44b1-ab86-8f165ce1690c",
   "metadata": {},
   "source": [
    "And some coord. categorisation."
   ]
  },
  {
   "cell_type": "code",
   "execution_count": null,
   "id": "d71356c1-932d-48ec-99de-43bdf8dc4d81",
   "metadata": {},
   "outputs": [],
   "source": [
    "# Add more time categorisation.\n",
    "iris.coord_categorisation.add_month_number(cube, \"time\")\n",
    "iris.coord_categorisation.add_year(cube, \"time\")"
   ]
  },
  {
   "cell_type": "code",
   "execution_count": null,
   "id": "4f0182e3-d952-44dd-a774-7ad9e31411e2",
   "metadata": {},
   "outputs": [],
   "source": [
    "cube_av = attribution.utils.compute_spatial_average(cube)"
   ]
  },
  {
   "cell_type": "markdown",
   "id": "374f9a59-6100-40a8-b679-cdee738d9ac9",
   "metadata": {},
   "source": [
    "### Compute index"
   ]
  },
  {
   "cell_type": "code",
   "execution_count": null,
   "id": "11c6e3ae-595e-41c6-a437-b598b04f8ef6",
   "metadata": {},
   "outputs": [],
   "source": [
    "index_cube = attribution.utils.compute_index(cube, index, client)"
   ]
  },
  {
   "cell_type": "code",
   "execution_count": null,
   "id": "75c99bdf-5ae4-4cb4-b437-cdf69a9720db",
   "metadata": {},
   "outputs": [],
   "source": [
    "index_cube_av = attribution.utils.compute_index(cube_av, index, client)"
   ]
  },
  {
   "cell_type": "code",
   "execution_count": null,
   "id": "fb841102-08e4-4a90-bc15-80bffed824d5",
   "metadata": {},
   "outputs": [],
   "source": [
    "index_cube_av.shape"
   ]
  },
  {
   "cell_type": "markdown",
   "id": "45a71eb6-8d7d-4ab6-94d9-24ec3a79574c",
   "metadata": {},
   "source": [
    "Now we can get the threshold from the SU of 2018."
   ]
  },
  {
   "cell_type": "code",
   "execution_count": null,
   "id": "da1d680d-9f98-4320-be2d-d1580ccd4f29",
   "metadata": {},
   "outputs": [],
   "source": [
    "# Summer 2018\n",
    "threshold = index_cube_av[-1].data"
   ]
  },
  {
   "cell_type": "code",
   "execution_count": null,
   "id": "71831ed0-082b-4014-894c-739c4e7f316e",
   "metadata": {},
   "outputs": [],
   "source": [
    "threshold"
   ]
  },
  {
   "cell_type": "code",
   "execution_count": null,
   "id": "22666418-6586-462e-a00d-3cd65f536617",
   "metadata": {},
   "outputs": [],
   "source": [
    "iplt.plot(index_cube_av);"
   ]
  },
  {
   "cell_type": "markdown",
   "id": "3338d911-9a50-42a0-b3ab-d7c51b29fb52",
   "metadata": {},
   "source": [
    "### Fitting an extreme value distribution to SU"
   ]
  },
  {
   "cell_type": "markdown",
   "id": "0f5fe056-cedd-46f6-bc2c-68b25755f355",
   "metadata": {},
   "source": [
    "We try and fit a number of extreme value distributions to the data."
   ]
  },
  {
   "cell_type": "code",
   "execution_count": null,
   "id": "79574483-57fd-4419-94f6-acab9fdf4bb3",
   "metadata": {},
   "outputs": [],
   "source": [
    "# Some distributions describing extremes.\n",
    "dists = {\n",
    "    \"genextreme\": scstats.genextreme,\n",
    "    \"gamma\": scstats.gamma,\n",
    "    \"genpareto\": scstats.genpareto,\n",
    "    \"gengamma\": scstats.gengamma,\n",
    "    \"gumbel_l\": scstats.gumbel_l,\n",
    "    \"gumbel_r\": scstats.gumbel_r,\n",
    "}"
   ]
  },
  {
   "cell_type": "markdown",
   "id": "13083cc4-4074-4787-80c2-17c6c36ad388",
   "metadata": {},
   "source": [
    "Before we do the bootstrap, we want to check the goodness of fit for the distribution and the data.\n",
    "For this we use a Kolmogorov-Smirnof test (KS-test).\n",
    "For a goodness of fit this is a bit unintuitive.\n",
    "The 0-hypothesis is that the distributions are the same, hence we are looking for a high p-value here. e.g. that we can't say that the dists are different."
   ]
  },
  {
   "cell_type": "code",
   "execution_count": null,
   "id": "c05b1eb0-2c0a-4869-9229-a2d5514c4124",
   "metadata": {},
   "outputs": [],
   "source": [
    "cube_data = index_cube_av.data"
   ]
  },
  {
   "cell_type": "code",
   "execution_count": null,
   "id": "cd82153e-6885-486f-8b6f-ab888c4f71c8",
   "metadata": {},
   "outputs": [],
   "source": [
    "_ = attribution.validation.inspect_distributions(cube_data, dists, figsize=(7, 5))"
   ]
  },
  {
   "cell_type": "markdown",
   "id": "8b31151d-3a12-42cc-8a18-38fbc7c44217",
   "metadata": {},
   "source": [
    "Which distribution that fits the data best is a difficult question,\n",
    "and one should do both a visual and a statistical inspection.\n",
    "In this case, based on the KS-test and the plot above, the gamma distribution seems to represent the data the best.\n",
    "\n",
    "We need the quantile of the threshold to compute the \"relative\" thresholds for other datasets.\n",
    "Since different datasets have different biases, the absolute threshold for this dataset does not translate to other datasets."
   ]
  },
  {
   "cell_type": "code",
   "execution_count": null,
   "id": "9eaebbd7-a536-4d64-b9b9-75263c192431",
   "metadata": {},
   "outputs": [],
   "source": [
    "# Fit the distribution.\n",
    "fit = dists[\"gumbel_r\"].fit(cube_data)\n",
    "# Get the quantile of the survival function.\n",
    "threshold_quantile = dists[\"gumbel_r\"].sf(threshold, *fit)"
   ]
  },
  {
   "cell_type": "code",
   "execution_count": null,
   "id": "8d9d7a8f-b64f-45d3-a544-621ac254c65f",
   "metadata": {},
   "outputs": [],
   "source": [
    "threshold_quantile"
   ]
  },
  {
   "cell_type": "markdown",
   "id": "392dd8e9-eaee-478f-a2e0-09f19f4dfe82",
   "metadata": {},
   "source": [
    "Detrending data"
   ]
  },
  {
   "cell_type": "code",
   "execution_count": null,
   "id": "330d062c-fb04-4df7-9af2-611bc68b5e2f",
   "metadata": {},
   "outputs": [],
   "source": [
    "# Add more time categorisation.\n",
    "# iris.coord_categorisation.add_month_number(cube_av, \"time\")\n",
    "# iris.coord_categorisation.add_year(cube_av, \"time\")"
   ]
  },
  {
   "cell_type": "code",
   "execution_count": null,
   "id": "a4a99dee-cd21-4afa-a0bb-5c11c18d1829",
   "metadata": {},
   "outputs": [],
   "source": [
    "gmst  = attribution.utils.get_monthly_gmst(cube_av)"
   ]
  },
  {
   "cell_type": "code",
   "execution_count": null,
   "id": "0ec16c3a-0ef1-4eb9-801d-a2c002c0c08c",
   "metadata": {},
   "outputs": [],
   "source": [
    "monthly_gmst = gmst.reshape(-1, 12)"
   ]
  },
  {
   "cell_type": "code",
   "execution_count": null,
   "id": "bc96b52e-99a0-42e7-9011-c0f393d9f71c",
   "metadata": {},
   "outputs": [],
   "source": [
    "gmst_diff = monthly_gmst[-1] - monthly_gmst"
   ]
  },
  {
   "cell_type": "code",
   "execution_count": null,
   "id": "ccf877d9-1002-423c-9e6a-ba6ae17bb278",
   "metadata": {},
   "outputs": [],
   "source": [
    "from importlib import reload"
   ]
  },
  {
   "cell_type": "code",
   "execution_count": null,
   "id": "25b8a784-9ad6-4432-a6c8-568faf2605c4",
   "metadata": {},
   "outputs": [],
   "source": [
    "cube_detrend = cube_av.copy()"
   ]
  },
  {
   "cell_type": "code",
   "execution_count": null,
   "id": "a1027e09-d8b2-421c-ba6d-dac04f0408e9",
   "metadata": {},
   "outputs": [],
   "source": [
    "betas, p_values = attribution.utils.compute_monthly_regression_coefs(cube_av, gmst, tqdm=True)"
   ]
  },
  {
   "cell_type": "code",
   "execution_count": null,
   "id": "98438b22-025c-4bd4-b54a-55611e8d2bb7",
   "metadata": {},
   "outputs": [],
   "source": [
    "cube_detrend = attribution.funcs.shift_cube_data(cube_av, betas, p_values, gmst_diff, tqdm=True)"
   ]
  },
  {
   "cell_type": "code",
   "execution_count": null,
   "id": "0121e505-41cb-4704-93f7-381b31c4c197",
   "metadata": {},
   "outputs": [],
   "source": [
    "reload(attribution.funcs)"
   ]
  },
  {
   "cell_type": "code",
   "execution_count": null,
   "id": "f1b903f0-1082-4b4f-90ad-8d38f42f6a15",
   "metadata": {},
   "outputs": [],
   "source": [
    "reload(attribution.utils)"
   ]
  },
  {
   "cell_type": "code",
   "execution_count": null,
   "id": "8c9ba12d-70c4-4f3f-828f-fbda85ae5b32",
   "metadata": {},
   "outputs": [],
   "source": [
    "cube_cf = attribution.funcs.shift_cube_data(cube_av, betas, p_values, -1.2, tqdm=True)"
   ]
  },
  {
   "cell_type": "code",
   "execution_count": null,
   "id": "321489ae-7743-4333-98ec-0ba7b219e505",
   "metadata": {},
   "outputs": [],
   "source": [
    "iplt.plot(cube_av);\n",
    "iplt.plot(cube_detrend);\n",
    "iplt.plot(cube_cf);"
   ]
  },
  {
   "cell_type": "code",
   "execution_count": null,
   "id": "daca1724-3199-4575-8026-089fd474c7ce",
   "metadata": {},
   "outputs": [],
   "source": [
    "index_cube = attribution.utils.compute_index(cube_av, index, client)\n",
    "index_cube_detrend = attribution.utils.compute_index(cube_detrend, index, client)\n",
    "index_cube_cf = attribution.utils.compute_index(cube_cf, index, client)"
   ]
  },
  {
   "cell_type": "code",
   "execution_count": null,
   "id": "a8ba31a9-5222-42df-a965-e09f391463e1",
   "metadata": {},
   "outputs": [],
   "source": [
    "iplt.plot(index_cube, label=\"Orig.\");\n",
    "iplt.plot(index_cube_detrend, label=\"De-trend\");\n",
    "iplt.plot(index_cube_cf, label=\"CF\");\n",
    "plt.legend();"
   ]
  },
  {
   "cell_type": "code",
   "execution_count": null,
   "id": "75d14bca-fee2-4001-850d-79cec460e963",
   "metadata": {},
   "outputs": [],
   "source": [
    "iris.coord_categorisation.add_year(cube_detrend, \"time\")"
   ]
  },
  {
   "cell_type": "code",
   "execution_count": null,
   "id": "d7820195-f8d2-4018-b7c8-81b809083003",
   "metadata": {},
   "outputs": [],
   "source": [
    "test_betas, _ = attribution.utils.compute_monthly_regression_coefs(cube_detrend, gmst, tqdm=True)"
   ]
  },
  {
   "cell_type": "markdown",
   "id": "eef5cce3-3336-40ad-b012-ffd42fc4ef38",
   "metadata": {},
   "source": [
    "### Median shifted probabilities\n",
    "For this we need the averaged cube."
   ]
  },
  {
   "cell_type": "code",
   "execution_count": null,
   "id": "22cec75b-10fc-4918-89ca-c0ede0cf1228",
   "metadata": {},
   "outputs": [],
   "source": [
    "# Select the first 30 years of the data.\n",
    "# cube_av = cube_av[-30*365:].copy()"
   ]
  },
  {
   "cell_type": "code",
   "execution_count": null,
   "id": "e0eca636-a778-41e4-9f8c-fc8c5e074c2b",
   "metadata": {},
   "outputs": [],
   "source": [
    "from importlib import reload"
   ]
  },
  {
   "cell_type": "code",
   "execution_count": null,
   "id": "775e7c6f-4c47-4e1e-a46c-41c8c57dfb5d",
   "metadata": {},
   "outputs": [],
   "source": [
    "reload(attribution.bootstrap)"
   ]
  },
  {
   "cell_type": "code",
   "execution_count": null,
   "id": "d02deaf8-70f0-4d0b-be10-9c11a7cd8bdb",
   "metadata": {},
   "outputs": [],
   "source": [
    "reload(attribution.funcs)"
   ]
  },
  {
   "cell_type": "code",
   "execution_count": null,
   "id": "ded14291-8b43-4cf5-9eb8-4e0f13c9fe25",
   "metadata": {},
   "outputs": [],
   "source": [
    "reload(attribution.utils)"
   ]
  },
  {
   "cell_type": "code",
   "execution_count": null,
   "id": "315022d9-9ad5-45dd-a276-5ee2b05e7989",
   "metadata": {},
   "outputs": [],
   "source": [
    "iris.coord_categorisation.add_year(cube_av, \"time\")"
   ]
  },
  {
   "cell_type": "code",
   "execution_count": null,
   "id": "cbdb45f6-f8e9-41d5-9458-65531a7dd4b4",
   "metadata": {},
   "outputs": [],
   "source": [
    "prob_ratio_ci, theta_hat_b = attribution.bootstrap.prob_ratio_ds_ci(\n",
    "    cube_av,\n",
    "    index,\n",
    "    dists,\n",
    "    threshold_quantile,\n",
    "    delta_temp=-1.2,\n",
    "    log_sf=True,\n",
    "    season=\"mjja\",\n",
    ")"
   ]
  },
  {
   "cell_type": "code",
   "execution_count": null,
   "id": "b589349f-b6b7-4424-beb4-49f146e09c19",
   "metadata": {},
   "outputs": [],
   "source": [
    "prob_ratio_ci"
   ]
  },
  {
   "cell_type": "markdown",
   "id": "47c3ae52-9375-4a45-a930-fd96418e136e",
   "metadata": {},
   "source": [
    "Save the quantiles"
   ]
  },
  {
   "cell_type": "code",
   "execution_count": null,
   "id": "28f80fe3-c803-4b73-a6f7-f39a85ece813",
   "metadata": {},
   "outputs": [],
   "source": [
    "np.save(\n",
    "    os.path.join(\n",
    "        CFG[\"paths\"][\"project_folder\"], f\"etc/{index_name}-ann_pbr_gridclim_ds_med\"\n",
    "    ),\n",
    "    prob_ratio_ci,\n",
    ")"
   ]
  },
  {
   "cell_type": "markdown",
   "id": "c50cee35-35f4-4eb7-a3ab-e43e703074b5",
   "metadata": {},
   "source": [
    "### Quantile shifted prob. ratio"
   ]
  },
  {
   "cell_type": "code",
   "execution_count": null,
   "id": "2578c6eb-c0ee-4f93-b8b0-a781f4d88b75",
   "metadata": {},
   "outputs": [],
   "source": [
    "prob_ratio_ci, theta_hat_b = attribution.bootstrap.prob_ratio_ds_ci(\n",
    "    cube_av,\n",
    "    index,\n",
    "    dists,\n",
    "    threshold_quantile,\n",
    "    delta_temp=-1.0,\n",
    "    log_sf=True,\n",
    "    quantile_shift=True,\n",
    "    season=\"mjja\",\n",
    ")"
   ]
  },
  {
   "cell_type": "code",
   "execution_count": null,
   "id": "ea2b44ee-d25a-443f-99b7-c77a2e246fec",
   "metadata": {},
   "outputs": [],
   "source": [
    "prob_ratio_ci"
   ]
  },
  {
   "cell_type": "markdown",
   "id": "28d78666-a3e5-45c7-9a3f-a3382ae3a786",
   "metadata": {},
   "source": [
    "Save the quantiles"
   ]
  },
  {
   "cell_type": "code",
   "execution_count": null,
   "id": "ba358cce-f287-4b50-9fde-eb04cb786cfd",
   "metadata": {},
   "outputs": [],
   "source": [
    "np.save(\n",
    "    os.path.join(\n",
    "        CFG[\"paths\"][\"project_folder\"], f\"etc/{index_name}-ann_pbr_gridclim_ds_q\"\n",
    "    ),\n",
    "    prob_ratio_ci,\n",
    ")"
   ]
  },
  {
   "cell_type": "markdown",
   "id": "12da9e78-e142-4269-a494-5cdd901eb25f",
   "metadata": {},
   "source": [
    "## EOBS\n",
    "Not as many explanations here."
   ]
  },
  {
   "cell_type": "code",
   "execution_count": null,
   "id": "8606214c-6e16-45b4-a96b-af98179c5beb",
   "metadata": {},
   "outputs": [],
   "source": [
    "file = glob.glob(CFG[\"paths\"][\"project_folder\"] + f\"/{variable}*EOBS*.nc\")"
   ]
  },
  {
   "cell_type": "code",
   "execution_count": null,
   "id": "6bd666b2-2253-4326-b01b-0f1e225cc8c3",
   "metadata": {},
   "outputs": [],
   "source": [
    "eobs_cube = iris.load_cube(file)"
   ]
  },
  {
   "cell_type": "markdown",
   "id": "11caeefb-5eef-4c03-80c2-19a2610c08d2",
   "metadata": {},
   "source": [
    "Remove leap days"
   ]
  },
  {
   "cell_type": "code",
   "execution_count": null,
   "id": "200c679c-baa3-44e4-8060-eb0b9e126bc8",
   "metadata": {},
   "outputs": [],
   "source": [
    "# Add a leap day cooridnate.\n",
    "iris.coord_categorisation.add_categorised_coord(\n",
    "    eobs_cube,\n",
    "    \"leap\",\n",
    "    \"time\",\n",
    "    lambda coord, value: coord.units.num2date(value).month == 2\n",
    "    and coord.units.num2date(value).day == 29,\n",
    ")\n",
    "#  Create the constraint.\n",
    "leap_constraint = iris.Constraint(leap=False)\n",
    "# Here remove leap days\n",
    "eobs_cube = eobs_cube.extract(leap_constraint)"
   ]
  },
  {
   "cell_type": "markdown",
   "id": "c02bd329-ab57-4647-8319-335b06c9ebe4",
   "metadata": {},
   "source": [
    "And some coord. categorisation."
   ]
  },
  {
   "cell_type": "code",
   "execution_count": null,
   "id": "88bea165-01f4-4011-8f21-3c5e769f4d89",
   "metadata": {},
   "outputs": [],
   "source": [
    "# Add more time categorisation.\n",
    "iris.coord_categorisation.add_month_number(eobs_cube, \"time\")\n",
    "iris.coord_categorisation.add_year(eobs_cube, \"time\")"
   ]
  },
  {
   "cell_type": "code",
   "execution_count": null,
   "id": "7ecf01ed-5426-47f6-8d33-41bbfb179f15",
   "metadata": {},
   "outputs": [],
   "source": [
    "cube_av = attribution.utils.compute_spatial_average(eobs_cube)"
   ]
  },
  {
   "cell_type": "markdown",
   "id": "726b670a-be2e-4fcf-b4eb-9cba89655b1e",
   "metadata": {},
   "source": [
    "Summer data"
   ]
  },
  {
   "cell_type": "code",
   "execution_count": null,
   "id": "5c581c45-34a6-4059-b59a-db908586be95",
   "metadata": {},
   "outputs": [],
   "source": [
    "mjja_cube = attribution.utils.select_season(eobs_cube, \"mjja\", \"summer\")"
   ]
  },
  {
   "cell_type": "code",
   "execution_count": null,
   "id": "896578db-933f-4d99-8177-f43c9e4750b0",
   "metadata": {},
   "outputs": [],
   "source": [
    "mjja_cube_av = attribution.utils.compute_spatial_average(mjja_cube)"
   ]
  },
  {
   "cell_type": "markdown",
   "id": "b8f06143-06ef-48e7-b616-9bb5170b8596",
   "metadata": {},
   "source": [
    "Compute the index"
   ]
  },
  {
   "cell_type": "code",
   "execution_count": null,
   "id": "c7b6388b-ae35-40f7-861d-aa4579640b88",
   "metadata": {},
   "outputs": [],
   "source": [
    "index_cube = attribution.utils.compute_index(mjja_cube, index, client)"
   ]
  },
  {
   "cell_type": "code",
   "execution_count": null,
   "id": "cdc4191b-7aca-4ba9-98c9-523e395450d5",
   "metadata": {},
   "outputs": [],
   "source": [
    "index_cube_av = attribution.utils.compute_index(mjja_cube_av, index, client)"
   ]
  },
  {
   "cell_type": "code",
   "execution_count": null,
   "id": "727f287f-aa02-4a96-949d-3ce674949b1c",
   "metadata": {},
   "outputs": [],
   "source": [
    "_ = attribution.validation.inspect_distributions(index_cube_av.data, dists)"
   ]
  },
  {
   "cell_type": "code",
   "execution_count": null,
   "id": "4226c45b-2db8-4d6a-9363-aa23fb49dbf0",
   "metadata": {},
   "outputs": [],
   "source": [
    "index_cube_av.data[-1]"
   ]
  },
  {
   "cell_type": "code",
   "execution_count": null,
   "id": "2fb1cec8-34c8-4304-8644-a2edaff9cc0d",
   "metadata": {},
   "outputs": [],
   "source": [
    "# Fit the distribution.\n",
    "fit = dists[\"gumbel_r\"].fit(index_cube_av.data)\n",
    "# Get the quantile of the survival function.\n",
    "threshold_quantile_t = dists[\"gumbel_r\"].sf(index_cube_av.data[-1], *fit)"
   ]
  },
  {
   "cell_type": "code",
   "execution_count": null,
   "id": "e3f2fff2-ea49-476d-b813-9fd518a555ed",
   "metadata": {},
   "outputs": [],
   "source": [
    "threshold_quantile"
   ]
  },
  {
   "cell_type": "code",
   "execution_count": null,
   "id": "4cc1a7ff-2e42-4fdc-b72a-f0fb87df0f9b",
   "metadata": {},
   "outputs": [],
   "source": [
    "threshold_quantile_t"
   ]
  },
  {
   "cell_type": "markdown",
   "id": "ac8c3cf3-3766-438c-b0fa-0e014190183f",
   "metadata": {
    "tags": []
   },
   "source": [
    "### Median shifted probability ratios"
   ]
  },
  {
   "cell_type": "code",
   "execution_count": null,
   "id": "bf74e959-c69f-4a2b-83dc-5c8315c22442",
   "metadata": {},
   "outputs": [],
   "source": [
    "prob_ratio_ci, theta_hat_b = attribution.bootstrap.prob_ratio_ds_ci(\n",
    "    cube_av,\n",
    "    index,\n",
    "    dists,\n",
    "    threshold_quantile,\n",
    "    delta_temp=-1.2,\n",
    "    log_sf=True,\n",
    "    season=\"mjja\",\n",
    ")"
   ]
  },
  {
   "cell_type": "code",
   "execution_count": null,
   "id": "f52f4e4b-351f-4966-9709-948a93c1f3ce",
   "metadata": {},
   "outputs": [],
   "source": [
    "prob_ratio_ci"
   ]
  },
  {
   "cell_type": "code",
   "execution_count": null,
   "id": "551a29ee-2820-4b35-b467-2951fdb9a20f",
   "metadata": {},
   "outputs": [],
   "source": [
    "np.save(\n",
    "    os.path.join(\n",
    "        CFG[\"paths\"][\"project_folder\"], f\"etc/{index_name}-ann_pbr_eobs_ds_med\"\n",
    "    ),\n",
    "    prob_ratio_ci,\n",
    ")"
   ]
  },
  {
   "cell_type": "markdown",
   "id": "4a261903-f895-4b9a-ab4e-d8aa02aa22b0",
   "metadata": {
    "tags": []
   },
   "source": [
    "### Quantile shifted probability ratios"
   ]
  },
  {
   "cell_type": "code",
   "execution_count": null,
   "id": "67972b8a-63c5-4ebd-aad7-cb06407c79f4",
   "metadata": {},
   "outputs": [],
   "source": [
    "prob_ratio_ci, theta_hat_b = attribution.bootstrap.prob_ratio_ds_ci(\n",
    "    cube_av,\n",
    "    index,\n",
    "    dists,\n",
    "    threshold_quantile,\n",
    "    delta_temp=-1.0,\n",
    "    log_sf=True,\n",
    "    quantile_shift=True,\n",
    "    season=\"mjja\",\n",
    ")"
   ]
  },
  {
   "cell_type": "code",
   "execution_count": null,
   "id": "ad6a68e4-59e6-4236-8579-9f1138cd8a37",
   "metadata": {},
   "outputs": [],
   "source": [
    "prob_ratio_ci"
   ]
  },
  {
   "cell_type": "code",
   "execution_count": null,
   "id": "b93f1d84-5d63-4592-b81b-88ba9387683f",
   "metadata": {},
   "outputs": [],
   "source": [
    "np.save(\n",
    "    os.path.join(CFG[\"paths\"][\"project_folder\"], f\"etc/{index_name}-ann_pbr_eobs_ds_q\"),\n",
    "    prob_ratio_ci,\n",
    ")"
   ]
  },
  {
   "cell_type": "markdown",
   "id": "a6b03d56-6985-4477-8d4d-4f3e85c0f355",
   "metadata": {},
   "source": [
    "## ERA5"
   ]
  },
  {
   "cell_type": "code",
   "execution_count": null,
   "id": "aca8bde2-0659-41df-b71a-f525d5fe425f",
   "metadata": {},
   "outputs": [],
   "source": [
    "file = glob.glob(CFG[\"paths\"][\"project_folder\"] + f\"/{variable}*era5*.nc\")"
   ]
  },
  {
   "cell_type": "code",
   "execution_count": null,
   "id": "75ad9da6-b954-4a9b-8f4b-2d33293db42b",
   "metadata": {},
   "outputs": [],
   "source": [
    "era_cube = iris.load_cube(file)"
   ]
  },
  {
   "cell_type": "markdown",
   "id": "e8f7eb8d-f5f3-444f-b407-b30c763a8313",
   "metadata": {},
   "source": [
    "Remove leap days"
   ]
  },
  {
   "cell_type": "code",
   "execution_count": null,
   "id": "9d20d315-5177-4aeb-891f-4f9a74da4ca8",
   "metadata": {},
   "outputs": [],
   "source": [
    "# Add a leap day cooridnate.\n",
    "iris.coord_categorisation.add_categorised_coord(\n",
    "    era_cube,\n",
    "    \"leap\",\n",
    "    \"time\",\n",
    "    lambda coord, value: coord.units.num2date(value).month == 2\n",
    "    and coord.units.num2date(value).day == 29,\n",
    ")\n",
    "#  Create the constraint.\n",
    "leap_constraint = iris.Constraint(leap=False)\n",
    "# Here remove leap days\n",
    "era_cube = era_cube.extract(leap_constraint)"
   ]
  },
  {
   "cell_type": "markdown",
   "id": "20f40fd6-f14d-47e1-b156-30e9e8aadec7",
   "metadata": {},
   "source": [
    "And some coord. categorisation."
   ]
  },
  {
   "cell_type": "code",
   "execution_count": null,
   "id": "432635cf-2200-4b1f-b174-d648649a6b0e",
   "metadata": {},
   "outputs": [],
   "source": [
    "# Add more time categorisation.\n",
    "iris.coord_categorisation.add_month_number(era_cube, \"time\")\n",
    "iris.coord_categorisation.add_year(era_cube, \"time\")"
   ]
  },
  {
   "cell_type": "code",
   "execution_count": null,
   "id": "ee897e7a-4ec5-485f-97b2-ea7d06be66e1",
   "metadata": {},
   "outputs": [],
   "source": [
    "cube_av = attribution.utils.compute_spatial_average(era_cube)"
   ]
  },
  {
   "cell_type": "markdown",
   "id": "823c833d-05e9-491b-ad26-cbf4c82637b8",
   "metadata": {},
   "source": [
    "Summer data"
   ]
  },
  {
   "cell_type": "code",
   "execution_count": null,
   "id": "c09f4b40-9dfc-43b9-b976-b1e56481a948",
   "metadata": {},
   "outputs": [],
   "source": [
    "mjja_cube = attribution.utils.select_season(era_cube, \"mjja\", \"summer\")"
   ]
  },
  {
   "cell_type": "code",
   "execution_count": null,
   "id": "d6775eb6-8f53-4c6c-a906-4ba301e10f77",
   "metadata": {},
   "outputs": [],
   "source": [
    "mjja_cube_av = attribution.utils.compute_spatial_average(mjja_cube)"
   ]
  },
  {
   "cell_type": "markdown",
   "id": "ab219e10-59b5-4b7a-9163-dc042c15ff2a",
   "metadata": {},
   "source": [
    "Compute the index"
   ]
  },
  {
   "cell_type": "code",
   "execution_count": null,
   "id": "64d5bcde-5a81-4385-b401-0a857ed73edf",
   "metadata": {},
   "outputs": [],
   "source": [
    "index_cube = attribution.utils.compute_index(mjja_cube, index, client)"
   ]
  },
  {
   "cell_type": "code",
   "execution_count": null,
   "id": "dd3629a3-a0f5-4fd0-8f08-c2b12489ba1d",
   "metadata": {},
   "outputs": [],
   "source": [
    "index_cube_av = attribution.utils.compute_index(mjja_cube_av, index, client)"
   ]
  },
  {
   "cell_type": "code",
   "execution_count": null,
   "id": "31149768-90b6-4252-87ef-02c0f89ffadc",
   "metadata": {},
   "outputs": [],
   "source": [
    "_ = attribution.validation.inspect_distributions(index_cube_av.data, dists)"
   ]
  },
  {
   "cell_type": "code",
   "execution_count": null,
   "id": "428d475c-f6bd-4d6d-8685-f64150b71158",
   "metadata": {},
   "outputs": [],
   "source": [
    "iplt.plot(index_cube_av);"
   ]
  },
  {
   "cell_type": "code",
   "execution_count": null,
   "id": "019f0159-891b-419d-b77c-6b643f5b3bbc",
   "metadata": {},
   "outputs": [],
   "source": [
    "# 2018 is not the last year in the ERA5 dataset.\n",
    "index_cube_av.data[-4]"
   ]
  },
  {
   "cell_type": "code",
   "execution_count": null,
   "id": "a189ce37-8a8b-44ba-bafb-c3c249800822",
   "metadata": {},
   "outputs": [],
   "source": [
    "# Fit the distribution.\n",
    "fit = dists[\"genextreme\"].fit(index_cube_av.data)\n",
    "# Get the quantile of the survival function.\n",
    "threshold_quantile_t = dists[\"genextreme\"].sf(index_cube_av.data[-4], *fit)"
   ]
  },
  {
   "cell_type": "code",
   "execution_count": null,
   "id": "7b4c20cf-8c48-4410-ae14-1e19aaeeeeeb",
   "metadata": {},
   "outputs": [],
   "source": [
    "threshold_quantile"
   ]
  },
  {
   "cell_type": "code",
   "execution_count": null,
   "id": "f385d2d9-8d2f-4377-9c98-f483dc3a79d4",
   "metadata": {},
   "outputs": [],
   "source": [
    "threshold_quantile_t"
   ]
  },
  {
   "cell_type": "markdown",
   "id": "bf3188fd-737a-4393-ab3a-fa670f06140f",
   "metadata": {
    "tags": []
   },
   "source": [
    "### Median shifted probability ratios"
   ]
  },
  {
   "cell_type": "code",
   "execution_count": null,
   "id": "0d0d7626-977d-4f1a-b040-80b03a6a3b96",
   "metadata": {},
   "outputs": [],
   "source": [
    "prob_ratio_ci, theta_hat_b = attribution.bootstrap.prob_ratio_ds_ci(\n",
    "    cube_av,\n",
    "    index,\n",
    "    dists,\n",
    "    threshold_quantile,\n",
    "    delta_temp=-1.2,\n",
    "    log_sf=True,\n",
    "    season=\"mjja\",\n",
    ")"
   ]
  },
  {
   "cell_type": "code",
   "execution_count": null,
   "id": "08b435ea-ef44-49f3-bf92-ca6cb684f6ed",
   "metadata": {},
   "outputs": [],
   "source": [
    "prob_ratio_ci"
   ]
  },
  {
   "cell_type": "code",
   "execution_count": null,
   "id": "8d152dbb-709e-4b87-a375-8ed21d324b4f",
   "metadata": {},
   "outputs": [],
   "source": [
    "np.save(\n",
    "    os.path.join(\n",
    "        CFG[\"paths\"][\"project_folder\"], f\"etc/{index_name}-ann_pbr_era5_ds_med\"\n",
    "    ),\n",
    "    prob_ratio_ci,\n",
    ")"
   ]
  },
  {
   "cell_type": "markdown",
   "id": "ea52aecb-2a20-439e-a0b3-cf8abed744c9",
   "metadata": {
    "tags": []
   },
   "source": [
    "### Quantile shifted probability ratios"
   ]
  },
  {
   "cell_type": "code",
   "execution_count": null,
   "id": "c581c694-12b3-4f12-a70e-28ced14f3117",
   "metadata": {},
   "outputs": [],
   "source": [
    "prob_ratio_ci, theta_hat_b = attribution.bootstrap.prob_ratio_ds_ci(\n",
    "    cube_av,\n",
    "    index,\n",
    "    dists,\n",
    "    threshold_quantile,\n",
    "    delta_temp=-1.0,\n",
    "    log_sf=True,\n",
    "    quantile_shift=True,\n",
    "    season=\"mjja\",\n",
    ")"
   ]
  },
  {
   "cell_type": "code",
   "execution_count": null,
   "id": "4a8f4ebb-11f8-47e8-9d8e-2af2b06f6da4",
   "metadata": {},
   "outputs": [],
   "source": [
    "prob_ratio_ci"
   ]
  },
  {
   "cell_type": "code",
   "execution_count": null,
   "id": "3ed0313e-54a3-42f2-aa96-72b860506630",
   "metadata": {},
   "outputs": [],
   "source": [
    "np.save(\n",
    "    os.path.join(CFG[\"paths\"][\"project_folder\"], f\"etc/{index_name}-ann_pbr_era5_ds_q\"),\n",
    "    prob_ratio_ci,\n",
    ")"
   ]
  },
  {
   "cell_type": "markdown",
   "id": "82c92410-8ab7-43af-9042-4a2ced33ef2f",
   "metadata": {},
   "source": [
    "# Attribution: Models\n",
    "## CORDEX ENS"
   ]
  },
  {
   "cell_type": "code",
   "execution_count": null,
   "id": "51e8d855-9ad8-4a13-940f-c78ab62313ec",
   "metadata": {},
   "outputs": [],
   "source": [
    "# Which file is CORDEX?\n",
    "files[2]"
   ]
  },
  {
   "cell_type": "code",
   "execution_count": null,
   "id": "c214d5e9-d588-4122-8dd8-fffef2abeb03",
   "metadata": {},
   "outputs": [],
   "source": [
    "cube = iris.load_cube(files[2])"
   ]
  },
  {
   "cell_type": "code",
   "execution_count": null,
   "id": "d5845cb1-4301-41a8-b0e6-a489d8467b5f",
   "metadata": {},
   "outputs": [],
   "source": [
    "# Add a leap day cooridnate.\n",
    "iris.coord_categorisation.add_categorised_coord(\n",
    "    cube,\n",
    "    \"leap\",\n",
    "    \"time\",\n",
    "    lambda coord, value: coord.units.num2date(value).month == 2\n",
    "    and coord.units.num2date(value).day == 29,\n",
    ")\n",
    "#  Create the constraint.\n",
    "leap_constraint = iris.Constraint(leap=False)\n",
    "# Here remove leap days\n",
    "cube = cube.extract(leap_constraint)"
   ]
  },
  {
   "cell_type": "markdown",
   "id": "8c311d41-2fe5-40eb-b14a-e6dfa20a3e5b",
   "metadata": {},
   "source": [
    "And some coord. categorisation."
   ]
  },
  {
   "cell_type": "code",
   "execution_count": null,
   "id": "f823777c-cd52-4f8f-b3ce-02bd49be15cd",
   "metadata": {},
   "outputs": [],
   "source": [
    "# Add more time categorisation.\n",
    "iris.coord_categorisation.add_month_number(cube, \"time\")\n",
    "iris.coord_categorisation.add_year(cube, \"time\")"
   ]
  },
  {
   "cell_type": "code",
   "execution_count": null,
   "id": "b96b2aca-d84e-48ef-850d-5b2b11577903",
   "metadata": {},
   "outputs": [],
   "source": [
    "cube_av = attribution.utils.compute_spatial_average(cube)"
   ]
  },
  {
   "cell_type": "markdown",
   "id": "ee019008-65d8-472b-a3f9-230e58caa4ba",
   "metadata": {
    "tags": []
   },
   "source": [
    "### Median shifted probability ratio"
   ]
  },
  {
   "cell_type": "code",
   "execution_count": null,
   "id": "e333b801-ce19-4d30-b6bc-d509ec8740eb",
   "metadata": {},
   "outputs": [],
   "source": [
    "# Some distributions describing extremes.\n",
    "dists = {\n",
    "    # \"genextreme\": scstats.genextreme,\n",
    "    \"gamma\": scstats.gamma,\n",
    "    \"genpareto\": scstats.genpareto,\n",
    "    \"gengamma\": scstats.gengamma,\n",
    "    \"gumbel_l\": scstats.gumbel_l,\n",
    "    \"gumbel_r\": scstats.gumbel_r,\n",
    "}"
   ]
  },
  {
   "cell_type": "code",
   "execution_count": null,
   "id": "547b09c0-d147-4a27-91ee-a54eda655040",
   "metadata": {},
   "outputs": [],
   "source": [
    "prob_ratio_ci, theta_hat_b = attribution.bootstrap.prob_ratio_ds_ci(\n",
    "    cube_av,\n",
    "    index,\n",
    "    dists,\n",
    "    threshold_quantile,\n",
    "    ensemble=True,\n",
    "    delta_temp=-1.0,\n",
    "    log_sf=True,\n",
    "    season=\"mjja\",\n",
    ")"
   ]
  },
  {
   "cell_type": "code",
   "execution_count": null,
   "id": "724b9ef1-c87c-454d-aabe-f724e4956ef5",
   "metadata": {},
   "outputs": [],
   "source": [
    "prob_ratio_ci"
   ]
  },
  {
   "cell_type": "code",
   "execution_count": null,
   "id": "83566d3e-d3c3-485a-b7b7-484069b23eff",
   "metadata": {},
   "outputs": [],
   "source": [
    "np.save(\n",
    "    os.path.join(\n",
    "        CFG[\"paths\"][\"project_folder\"], f\"etc/{index_name}-ann_pbr_cordex_ds_med\"\n",
    "    ),\n",
    "    prob_ratio_ci,\n",
    ")"
   ]
  },
  {
   "cell_type": "markdown",
   "id": "eae81652-aa24-455c-9b60-bf3b58adfc6f",
   "metadata": {
    "tags": []
   },
   "source": [
    "### Quantile shifted probability ratio"
   ]
  },
  {
   "cell_type": "code",
   "execution_count": null,
   "id": "4e4e39c8-b279-4f8d-988c-098411e5eac7",
   "metadata": {},
   "outputs": [],
   "source": [
    "prob_ratio_ci, theta_hat_b = attribution.bootstrap.prob_ratio_ds_ci(\n",
    "    cube_av,\n",
    "    index,\n",
    "    dists,\n",
    "    threshold_quantile,\n",
    "    ensemble=True,\n",
    "    delta_temp=-1.0,\n",
    "    log_sf=True,\n",
    "    quantile_shift=True,\n",
    "    season=\"mjja\",\n",
    ")"
   ]
  },
  {
   "cell_type": "code",
   "execution_count": null,
   "id": "6e4fee71-8ce5-4f32-85f2-3905e6c03dd7",
   "metadata": {},
   "outputs": [],
   "source": [
    "prob_ratio_ci"
   ]
  },
  {
   "cell_type": "code",
   "execution_count": null,
   "id": "0a770e18-839d-4401-9deb-84169b1a90bf",
   "metadata": {},
   "outputs": [],
   "source": [
    "np.save(\n",
    "    os.path.join(\n",
    "        CFG[\"paths\"][\"project_folder\"], f\"etc/{index_name}-ann_pbr_cordex_ds_q\"\n",
    "    ),\n",
    "    prob_ratio_ci,\n",
    ")"
   ]
  },
  {
   "cell_type": "markdown",
   "id": "93c58891-bcc1-4095-b2eb-78422441045b",
   "metadata": {},
   "source": [
    "## S-Lens ENS"
   ]
  },
  {
   "cell_type": "code",
   "execution_count": null,
   "id": "e0e09dc9-e157-4628-8d0b-58789c1657a2",
   "metadata": {},
   "outputs": [],
   "source": [
    "# Which file is CORDEX?\n",
    "files[4]"
   ]
  },
  {
   "cell_type": "code",
   "execution_count": null,
   "id": "83166c3d-8b35-4300-b701-328e2a215e11",
   "metadata": {},
   "outputs": [],
   "source": [
    "cube = iris.load_cube(files[4])"
   ]
  },
  {
   "cell_type": "code",
   "execution_count": null,
   "id": "62605ade-3962-4d4c-b2f7-577e86b0d6f6",
   "metadata": {},
   "outputs": [],
   "source": [
    "# Add a leap day cooridnate.\n",
    "iris.coord_categorisation.add_categorised_coord(\n",
    "    cube,\n",
    "    \"leap\",\n",
    "    \"time\",\n",
    "    lambda coord, value: coord.units.num2date(value).month == 2\n",
    "    and coord.units.num2date(value).day == 29,\n",
    ")\n",
    "#  Create the constraint.\n",
    "leap_constraint = iris.Constraint(leap=False)\n",
    "# Here remove leap days\n",
    "cube = cube.extract(leap_constraint)"
   ]
  },
  {
   "cell_type": "markdown",
   "id": "254e6ba6-f92c-4115-a4f8-97a22bf0dbb8",
   "metadata": {},
   "source": [
    "And some coord. categorisation."
   ]
  },
  {
   "cell_type": "code",
   "execution_count": null,
   "id": "bdcb69c1-8c5c-4507-ac06-c22ce3fde2bc",
   "metadata": {},
   "outputs": [],
   "source": [
    "# Add more time categorisation.\n",
    "iris.coord_categorisation.add_month_number(cube, \"time\")\n",
    "iris.coord_categorisation.add_year(cube, \"time\")"
   ]
  },
  {
   "cell_type": "code",
   "execution_count": null,
   "id": "992d58dc-a96b-4fbb-9dd7-921130306071",
   "metadata": {},
   "outputs": [],
   "source": [
    "weights = get_weights(cube)\n",
    "cube_av = cube.collapsed([\"latitude\", \"longitude\"], iris.analysis.MEAN, weights=weights)"
   ]
  },
  {
   "cell_type": "markdown",
   "id": "5233209c-bb0e-44fc-806a-4a2ca68a1f15",
   "metadata": {
    "tags": []
   },
   "source": [
    "### Median shifted probability ratio"
   ]
  },
  {
   "cell_type": "code",
   "execution_count": null,
   "id": "4ce0ce8a-26ac-46f6-ab3e-5b5f4af3848f",
   "metadata": {},
   "outputs": [],
   "source": [
    "# Some distributions describing extremes.\n",
    "dists = {\n",
    "    # \"genextreme\": scstats.genextreme,\n",
    "    \"gamma\": scstats.gamma,\n",
    "    \"genpareto\": scstats.genpareto,\n",
    "    \"gengamma\": scstats.gengamma,\n",
    "    \"gumbel_l\": scstats.gumbel_l,\n",
    "    \"gumbel_r\": scstats.gumbel_r,\n",
    "}"
   ]
  },
  {
   "cell_type": "code",
   "execution_count": null,
   "id": "247b512d-6502-4b41-bc3e-4a2d70b908a9",
   "metadata": {},
   "outputs": [],
   "source": [
    "prob_ratio_ci, theta_hat_b = attribution.bootstrap.prob_ratio_ds_ci(\n",
    "    cube_av,\n",
    "    index,\n",
    "    dists,\n",
    "    threshold_quantile,\n",
    "    ensemble=True,\n",
    "    delta_temp=-1.0,\n",
    "    log_sf=True,\n",
    "    season=\"mjja\",\n",
    ")"
   ]
  },
  {
   "cell_type": "code",
   "execution_count": null,
   "id": "98cecdde-b908-4220-a5ff-33d97d5fe1fe",
   "metadata": {},
   "outputs": [],
   "source": [
    "prob_ratio_ci"
   ]
  },
  {
   "cell_type": "code",
   "execution_count": null,
   "id": "277dd6c7-865d-4f43-8c56-5e26a78a1d21",
   "metadata": {},
   "outputs": [],
   "source": [
    "np.save(\n",
    "    os.path.join(\n",
    "        CFG[\"paths\"][\"project_folder\"], f\"etc/{index_name}-ann_pbr_s-lens_ds_med\"\n",
    "    ),\n",
    "    prob_ratio_ci,\n",
    ")"
   ]
  },
  {
   "cell_type": "markdown",
   "id": "857cb81b-fe4a-4d2c-add0-35cb2282365d",
   "metadata": {
    "tags": []
   },
   "source": [
    "### Quantile shifted probability ratio"
   ]
  },
  {
   "cell_type": "code",
   "execution_count": null,
   "id": "6bf91d34-f453-4f86-911b-6393065ddb47",
   "metadata": {},
   "outputs": [],
   "source": [
    "prob_ratio_ci, theta_hat_b = attribution.bootstrap.prob_ratio_ds_ci(\n",
    "    cube_av,\n",
    "    index,\n",
    "    dists,\n",
    "    threshold_quantile,\n",
    "    ensemble=True,\n",
    "    delta_temp=-1.0,\n",
    "    log_sf=True,\n",
    "    quantile_shift=True,\n",
    "    season=\"mjja\",\n",
    ")"
   ]
  },
  {
   "cell_type": "code",
   "execution_count": null,
   "id": "b14663fe-dd3a-4159-b34c-16a42be556b7",
   "metadata": {},
   "outputs": [],
   "source": [
    "prob_ratio_ci"
   ]
  },
  {
   "cell_type": "code",
   "execution_count": null,
   "id": "fa415a15-7c89-4d4d-b71d-0d113fe5076f",
   "metadata": {},
   "outputs": [],
   "source": [
    "np.save(\n",
    "    os.path.join(\n",
    "        CFG[\"paths\"][\"project_folder\"], f\"etc/{index_name}-ann_pbr_s-lens_ds_q\"\n",
    "    ),\n",
    "    prob_ratio_ci,\n",
    ")"
   ]
  },
  {
   "cell_type": "code",
   "execution_count": null,
   "id": "990b4a47-3547-4879-95b0-7ae2865ed3a8",
   "metadata": {},
   "outputs": [],
   "source": [
    "client.shutdown()"
   ]
  },
  {
   "cell_type": "markdown",
   "id": "80d109fe-792b-431c-bc81-81ee16e2cbb5",
   "metadata": {},
   "source": [
    "## Next step\n",
    "\n",
    "[Synthesis](./6_synthesis.ipynb)"
   ]
  }
 ],
 "metadata": {
  "kernelspec": {
   "display_name": "Python 3 (ipykernel)",
   "language": "python",
   "name": "python3"
  },
  "language_info": {
   "codemirror_mode": {
    "name": "ipython",
    "version": 3
   },
   "file_extension": ".py",
   "mimetype": "text/x-python",
   "name": "python",
   "nbconvert_exporter": "python",
   "pygments_lexer": "ipython3",
   "version": "3.9.13"
  },
  "toc-showtags": false
 },
 "nbformat": 4,
 "nbformat_minor": 5
}
